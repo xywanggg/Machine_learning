{
 "cells": [
  {
   "cell_type": "markdown",
   "metadata": {},
   "source": [
    "Churn Data <br>\n",
    "21 Columns (15 categorical data) 5561 rows <br>\n",
    "majority(0) : miniority class(1) = 7:3 <br>\n",
    "missing data : about 6% <br>\n",
    "Goal : Predict whether the customer is churn or not <br>\n",
    "Evaluation Metric: F1 <br>\n",
    "Reason: I want to predict the class labels and I think the positive class which is churn(1) is more important.\n",
    "And both Precision and Recall are equal important as it dependents on company's decision how to maintain the customers.Some company may want to focus on not churn(0) groups, some may also pay attention to the churn(1) group. So I think both precision and recall are equal important and I used F1 socre."
   ]
  },
  {
   "cell_type": "markdown",
   "metadata": {},
   "source": [
    "# Result\n",
    "- Best model: XGBoost\n",
    "- Best Mean Cross Validation Score is {'learning_rate': 0.1, 'max_depth': 4, 'min_child_weight': 5, 'n_estimators': 100, 'subsample': 0.9}\n",
    "- Best Mean Cross Validation Score is 0.6052890929449943\n",
    "- Train score is 0.664461247637051\n",
    "- Test score is 0.5899814471243043"
   ]
  },
  {
   "cell_type": "code",
   "execution_count": 155,
   "metadata": {},
   "outputs": [],
   "source": [
    "pred_y=xgbc_grid.predict(X_test)"
   ]
  },
  {
   "cell_type": "code",
   "execution_count": 154,
   "metadata": {
    "scrolled": true
   },
   "outputs": [
    {
     "name": "stdout",
     "output_type": "stream",
     "text": [
      "000000000111000000000000001101001000100000000001001001101000101000000010001000100000001100001000000000000010000010100001000000001100001010001000000000010000000100000000001010010001000001000100010010010000001000100000100010001110000000001000000100010000010000110100001001000001000010100000100100000001000100010000010000100000001000010000000010000001100110100100000001000000000010100010001001000000001000100001101000010000000100100010000000001100010000000000001100000100010101100011000001010001010001000110000001000000000100010000000000001010000001101101000000001010000010001100010000011000000000001001000100000011000000000000001000000000000000100011000011010010000010000000011000001011001000100000000001100000101000000000100000000101011001001100010110000010001110110000001000001001100010000000000000010000011010000010110000100000100101110000001000001000011000000100000001100010000010010000100001100000000000001100010010100100000000001100000011000000010001000000001010010000010000000100000000100011000010000010100000010000110000010000100000100000011010100101010001000011000100000000000100010110000000001010000001010"
     ]
    }
   ],
   "source": [
    "for i in pred_y:\n",
    "    print(i,end='')"
   ]
  },
  {
   "cell_type": "markdown",
   "metadata": {},
   "source": [
    "# Dataset"
   ]
  },
  {
   "cell_type": "code",
   "execution_count": 1,
   "metadata": {},
   "outputs": [],
   "source": [
    "import numpy as np\n",
    "import matplotlib.pyplot as plt\n",
    "import pandas as pd\n",
    "import seaborn as sns\n",
    "%matplotlib inline"
   ]
  },
  {
   "cell_type": "code",
   "execution_count": 2,
   "metadata": {
    "scrolled": false
   },
   "outputs": [
    {
     "data": {
      "text/html": [
       "<div>\n",
       "<style scoped>\n",
       "    .dataframe tbody tr th:only-of-type {\n",
       "        vertical-align: middle;\n",
       "    }\n",
       "\n",
       "    .dataframe tbody tr th {\n",
       "        vertical-align: top;\n",
       "    }\n",
       "\n",
       "    .dataframe thead th {\n",
       "        text-align: right;\n",
       "    }\n",
       "</style>\n",
       "<table border=\"1\" class=\"dataframe\">\n",
       "  <thead>\n",
       "    <tr style=\"text-align: right;\">\n",
       "      <th></th>\n",
       "      <th>customerID</th>\n",
       "      <th>gender</th>\n",
       "      <th>SeniorCitizen</th>\n",
       "      <th>Partner</th>\n",
       "      <th>Dependents</th>\n",
       "      <th>tenure</th>\n",
       "      <th>PhoneService</th>\n",
       "      <th>MultipleLines</th>\n",
       "      <th>InternetService</th>\n",
       "      <th>OnlineSecurity</th>\n",
       "      <th>...</th>\n",
       "      <th>DeviceProtection</th>\n",
       "      <th>TechSupport</th>\n",
       "      <th>StreamingTV</th>\n",
       "      <th>StreamingMovies</th>\n",
       "      <th>Contract</th>\n",
       "      <th>PaperlessBilling</th>\n",
       "      <th>PaymentMethod</th>\n",
       "      <th>MonthlyCharges</th>\n",
       "      <th>TotalCharges</th>\n",
       "      <th>Churn</th>\n",
       "    </tr>\n",
       "  </thead>\n",
       "  <tbody>\n",
       "    <tr>\n",
       "      <th>0</th>\n",
       "      <td>7590-VHVEG</td>\n",
       "      <td>Female</td>\n",
       "      <td>0</td>\n",
       "      <td>Yes</td>\n",
       "      <td>No</td>\n",
       "      <td>1.0</td>\n",
       "      <td>No</td>\n",
       "      <td>No phone service</td>\n",
       "      <td>DSL</td>\n",
       "      <td>No</td>\n",
       "      <td>...</td>\n",
       "      <td>No</td>\n",
       "      <td>No</td>\n",
       "      <td>No</td>\n",
       "      <td>No</td>\n",
       "      <td>Month-to-month</td>\n",
       "      <td>Yes</td>\n",
       "      <td>Electronic check</td>\n",
       "      <td>29.85</td>\n",
       "      <td>29.85</td>\n",
       "      <td>0</td>\n",
       "    </tr>\n",
       "    <tr>\n",
       "      <th>1</th>\n",
       "      <td>5575-GNVDE</td>\n",
       "      <td>Male</td>\n",
       "      <td>0</td>\n",
       "      <td>No</td>\n",
       "      <td>No</td>\n",
       "      <td>34.0</td>\n",
       "      <td>Yes</td>\n",
       "      <td>No</td>\n",
       "      <td>DSL</td>\n",
       "      <td>Yes</td>\n",
       "      <td>...</td>\n",
       "      <td>Yes</td>\n",
       "      <td>No</td>\n",
       "      <td>No</td>\n",
       "      <td>No</td>\n",
       "      <td>One year</td>\n",
       "      <td>No</td>\n",
       "      <td>Mailed check</td>\n",
       "      <td>56.95</td>\n",
       "      <td>1889.50</td>\n",
       "      <td>0</td>\n",
       "    </tr>\n",
       "    <tr>\n",
       "      <th>2</th>\n",
       "      <td>3668-QPYBK</td>\n",
       "      <td>Male</td>\n",
       "      <td>0</td>\n",
       "      <td>No</td>\n",
       "      <td>No</td>\n",
       "      <td>2.0</td>\n",
       "      <td>Yes</td>\n",
       "      <td>No</td>\n",
       "      <td>DSL</td>\n",
       "      <td>Yes</td>\n",
       "      <td>...</td>\n",
       "      <td>No</td>\n",
       "      <td>No</td>\n",
       "      <td>No</td>\n",
       "      <td>No</td>\n",
       "      <td>Month-to-month</td>\n",
       "      <td>Yes</td>\n",
       "      <td>Mailed check</td>\n",
       "      <td>53.85</td>\n",
       "      <td>108.15</td>\n",
       "      <td>1</td>\n",
       "    </tr>\n",
       "    <tr>\n",
       "      <th>3</th>\n",
       "      <td>7795-CFOCW</td>\n",
       "      <td>Male</td>\n",
       "      <td>0</td>\n",
       "      <td>No</td>\n",
       "      <td>No</td>\n",
       "      <td>45.0</td>\n",
       "      <td>No</td>\n",
       "      <td>No phone service</td>\n",
       "      <td>DSL</td>\n",
       "      <td>Yes</td>\n",
       "      <td>...</td>\n",
       "      <td>Yes</td>\n",
       "      <td>Yes</td>\n",
       "      <td>No</td>\n",
       "      <td>No</td>\n",
       "      <td>One year</td>\n",
       "      <td>No</td>\n",
       "      <td>Bank transfer (automatic)</td>\n",
       "      <td>42.30</td>\n",
       "      <td>1840.75</td>\n",
       "      <td>0</td>\n",
       "    </tr>\n",
       "    <tr>\n",
       "      <th>4</th>\n",
       "      <td>9237-HQITU</td>\n",
       "      <td>Female</td>\n",
       "      <td>0</td>\n",
       "      <td>No</td>\n",
       "      <td>No</td>\n",
       "      <td>2.0</td>\n",
       "      <td>Yes</td>\n",
       "      <td>No</td>\n",
       "      <td>Fiber optic</td>\n",
       "      <td>No</td>\n",
       "      <td>...</td>\n",
       "      <td>No</td>\n",
       "      <td>No</td>\n",
       "      <td>No</td>\n",
       "      <td>No</td>\n",
       "      <td>Month-to-month</td>\n",
       "      <td>Yes</td>\n",
       "      <td>Electronic check</td>\n",
       "      <td>70.70</td>\n",
       "      <td>151.65</td>\n",
       "      <td>1</td>\n",
       "    </tr>\n",
       "  </tbody>\n",
       "</table>\n",
       "<p>5 rows × 21 columns</p>\n",
       "</div>"
      ],
      "text/plain": [
       "   customerID  gender  SeniorCitizen Partner Dependents  tenure PhoneService  \\\n",
       "0  7590-VHVEG  Female              0     Yes         No     1.0           No   \n",
       "1  5575-GNVDE    Male              0      No         No    34.0          Yes   \n",
       "2  3668-QPYBK    Male              0      No         No     2.0          Yes   \n",
       "3  7795-CFOCW    Male              0      No         No    45.0           No   \n",
       "4  9237-HQITU  Female              0      No         No     2.0          Yes   \n",
       "\n",
       "      MultipleLines InternetService OnlineSecurity  ... DeviceProtection  \\\n",
       "0  No phone service             DSL             No  ...               No   \n",
       "1                No             DSL            Yes  ...              Yes   \n",
       "2                No             DSL            Yes  ...               No   \n",
       "3  No phone service             DSL            Yes  ...              Yes   \n",
       "4                No     Fiber optic             No  ...               No   \n",
       "\n",
       "  TechSupport StreamingTV StreamingMovies        Contract PaperlessBilling  \\\n",
       "0          No          No              No  Month-to-month              Yes   \n",
       "1          No          No              No        One year               No   \n",
       "2          No          No              No  Month-to-month              Yes   \n",
       "3         Yes          No              No        One year               No   \n",
       "4          No          No              No  Month-to-month              Yes   \n",
       "\n",
       "               PaymentMethod MonthlyCharges  TotalCharges  Churn  \n",
       "0           Electronic check          29.85         29.85      0  \n",
       "1               Mailed check          56.95       1889.50      0  \n",
       "2               Mailed check          53.85        108.15      1  \n",
       "3  Bank transfer (automatic)          42.30       1840.75      0  \n",
       "4           Electronic check          70.70        151.65      1  \n",
       "\n",
       "[5 rows x 21 columns]"
      ]
     },
     "execution_count": 2,
     "metadata": {},
     "output_type": "execute_result"
    }
   ],
   "source": [
    "data = pd.read_csv('Churn.csv')\n",
    "\n",
    "data.head()"
   ]
  },
  {
   "cell_type": "code",
   "execution_count": 3,
   "metadata": {},
   "outputs": [],
   "source": [
    "data=data.drop('customerID', axis=1)"
   ]
  },
  {
   "cell_type": "code",
   "execution_count": 4,
   "metadata": {
    "scrolled": false
   },
   "outputs": [
    {
     "name": "stdout",
     "output_type": "stream",
     "text": [
      "<class 'pandas.core.frame.DataFrame'>\n",
      "RangeIndex: 5561 entries, 0 to 5560\n",
      "Data columns (total 20 columns):\n",
      "gender              5561 non-null object\n",
      "SeniorCitizen       5561 non-null int64\n",
      "Partner             5561 non-null object\n",
      "Dependents          5330 non-null object\n",
      "tenure              5439 non-null float64\n",
      "PhoneService        5561 non-null object\n",
      "MultipleLines       5561 non-null object\n",
      "InternetService     5561 non-null object\n",
      "OnlineSecurity      5561 non-null object\n",
      "OnlineBackup        5561 non-null object\n",
      "DeviceProtection    5561 non-null object\n",
      "TechSupport         5561 non-null object\n",
      "StreamingTV         5561 non-null object\n",
      "StreamingMovies     5561 non-null object\n",
      "Contract            5561 non-null object\n",
      "PaperlessBilling    5561 non-null object\n",
      "PaymentMethod       5561 non-null object\n",
      "MonthlyCharges      5561 non-null float64\n",
      "TotalCharges        5561 non-null float64\n",
      "Churn               5561 non-null int64\n",
      "dtypes: float64(3), int64(2), object(15)\n",
      "memory usage: 869.0+ KB\n"
     ]
    }
   ],
   "source": [
    "data.info()"
   ]
  },
  {
   "cell_type": "code",
   "execution_count": 5,
   "metadata": {
    "scrolled": true
   },
   "outputs": [
    {
     "name": "stdout",
     "output_type": "stream",
     "text": [
      "gender 2 \n",
      " ['Female' 'Male'] \n",
      "\n",
      "SeniorCitizen 2 \n",
      " [0 1] \n",
      "\n",
      "Partner 2 \n",
      " ['Yes' 'No'] \n",
      "\n",
      "Dependents 2 \n",
      " ['No' 'Yes' nan] \n",
      "\n",
      "tenure 73 \n",
      " [ 1. 34.  2. 45.  8. 22. 10. 28. 62. 13. 16. 58. 49. 25. 69. 52. 71. 21.\n",
      " 12. 30.] \n",
      "\n",
      "PhoneService 2 \n",
      " ['No' 'Yes'] \n",
      "\n",
      "MultipleLines 3 \n",
      " ['No phone service' 'No' 'Yes'] \n",
      "\n",
      "InternetService 3 \n",
      " ['DSL' 'Fiber optic' 'No'] \n",
      "\n",
      "OnlineSecurity 3 \n",
      " ['No' 'Yes' 'No internet service'] \n",
      "\n",
      "OnlineBackup 3 \n",
      " ['Yes' 'No' 'No internet service'] \n",
      "\n",
      "DeviceProtection 3 \n",
      " ['No' 'Yes' 'No internet service'] \n",
      "\n",
      "TechSupport 3 \n",
      " ['No' 'Yes' 'No internet service'] \n",
      "\n",
      "StreamingTV 3 \n",
      " ['No' 'Yes' 'No internet service'] \n",
      "\n",
      "StreamingMovies 3 \n",
      " ['No' 'Yes' 'No internet service'] \n",
      "\n",
      "Contract 3 \n",
      " ['Month-to-month' 'One year' 'Two year'] \n",
      "\n",
      "PaperlessBilling 2 \n",
      " ['Yes' 'No'] \n",
      "\n",
      "PaymentMethod 4 \n",
      " ['Electronic check' 'Mailed check' 'Bank transfer (automatic)'\n",
      " 'Credit card (automatic)'] \n",
      "\n",
      "MonthlyCharges 1477 \n",
      " [ 29.85  56.95  53.85  42.3   70.7   99.65  89.1   29.75 104.8   56.15\n",
      "  49.95  18.95 100.35 103.7  105.5  113.25  20.65 106.7   55.2   90.05] \n",
      "\n",
      "TotalCharges 5220 \n",
      " [  29.85 1889.5   108.15 1840.75  151.65  820.5  1949.4   301.9  3046.05\n",
      " 3487.95  587.45  326.8  5681.1  5036.3  2686.05 7895.15 1022.95 7382.25\n",
      "  528.35 1862.9 ] \n",
      "\n",
      "Churn 2 \n",
      " [0 1] \n",
      "\n"
     ]
    }
   ],
   "source": [
    "for var in data.columns:\n",
    "    print(var,data[var].nunique(),'\\n', data[var].unique()[0:20], '\\n')"
   ]
  },
  {
   "cell_type": "code",
   "execution_count": 6,
   "metadata": {
    "scrolled": false
   },
   "outputs": [
    {
     "data": {
      "text/plain": [
       "gender              0.000000\n",
       "SeniorCitizen       0.000000\n",
       "Partner             0.000000\n",
       "Dependents          0.041539\n",
       "tenure              0.021939\n",
       "PhoneService        0.000000\n",
       "MultipleLines       0.000000\n",
       "InternetService     0.000000\n",
       "OnlineSecurity      0.000000\n",
       "OnlineBackup        0.000000\n",
       "DeviceProtection    0.000000\n",
       "TechSupport         0.000000\n",
       "StreamingTV         0.000000\n",
       "StreamingMovies     0.000000\n",
       "Contract            0.000000\n",
       "PaperlessBilling    0.000000\n",
       "PaymentMethod       0.000000\n",
       "MonthlyCharges      0.000000\n",
       "TotalCharges        0.000000\n",
       "Churn               0.000000\n",
       "dtype: float64"
      ]
     },
     "execution_count": 6,
     "metadata": {},
     "output_type": "execute_result"
    }
   ],
   "source": [
    "data.isnull().mean()"
   ]
  },
  {
   "cell_type": "code",
   "execution_count": 7,
   "metadata": {
    "scrolled": true
   },
   "outputs": [
    {
     "data": {
      "text/html": [
       "<div>\n",
       "<style scoped>\n",
       "    .dataframe tbody tr th:only-of-type {\n",
       "        vertical-align: middle;\n",
       "    }\n",
       "\n",
       "    .dataframe tbody tr th {\n",
       "        vertical-align: top;\n",
       "    }\n",
       "\n",
       "    .dataframe thead th {\n",
       "        text-align: right;\n",
       "    }\n",
       "</style>\n",
       "<table border=\"1\" class=\"dataframe\">\n",
       "  <thead>\n",
       "    <tr style=\"text-align: right;\">\n",
       "      <th></th>\n",
       "      <th>SeniorCitizen</th>\n",
       "      <th>tenure</th>\n",
       "      <th>MonthlyCharges</th>\n",
       "      <th>TotalCharges</th>\n",
       "      <th>Churn</th>\n",
       "    </tr>\n",
       "  </thead>\n",
       "  <tbody>\n",
       "    <tr>\n",
       "      <th>count</th>\n",
       "      <td>5561.000000</td>\n",
       "      <td>5439.000000</td>\n",
       "      <td>5561.000000</td>\n",
       "      <td>5561.000000</td>\n",
       "      <td>5561.000000</td>\n",
       "    </tr>\n",
       "    <tr>\n",
       "      <th>mean</th>\n",
       "      <td>0.160223</td>\n",
       "      <td>32.293988</td>\n",
       "      <td>64.933663</td>\n",
       "      <td>2261.764979</td>\n",
       "      <td>0.263082</td>\n",
       "    </tr>\n",
       "    <tr>\n",
       "      <th>std</th>\n",
       "      <td>0.366846</td>\n",
       "      <td>24.624928</td>\n",
       "      <td>30.098449</td>\n",
       "      <td>2262.099846</td>\n",
       "      <td>0.440346</td>\n",
       "    </tr>\n",
       "    <tr>\n",
       "      <th>min</th>\n",
       "      <td>0.000000</td>\n",
       "      <td>0.000000</td>\n",
       "      <td>18.250000</td>\n",
       "      <td>18.800000</td>\n",
       "      <td>0.000000</td>\n",
       "    </tr>\n",
       "    <tr>\n",
       "      <th>25%</th>\n",
       "      <td>0.000000</td>\n",
       "      <td>9.000000</td>\n",
       "      <td>35.700000</td>\n",
       "      <td>396.100000</td>\n",
       "      <td>0.000000</td>\n",
       "    </tr>\n",
       "    <tr>\n",
       "      <th>50%</th>\n",
       "      <td>0.000000</td>\n",
       "      <td>29.000000</td>\n",
       "      <td>70.450000</td>\n",
       "      <td>1380.100000</td>\n",
       "      <td>0.000000</td>\n",
       "    </tr>\n",
       "    <tr>\n",
       "      <th>75%</th>\n",
       "      <td>0.000000</td>\n",
       "      <td>55.000000</td>\n",
       "      <td>89.950000</td>\n",
       "      <td>3723.650000</td>\n",
       "      <td>1.000000</td>\n",
       "    </tr>\n",
       "    <tr>\n",
       "      <th>max</th>\n",
       "      <td>1.000000</td>\n",
       "      <td>72.000000</td>\n",
       "      <td>118.750000</td>\n",
       "      <td>8684.800000</td>\n",
       "      <td>1.000000</td>\n",
       "    </tr>\n",
       "  </tbody>\n",
       "</table>\n",
       "</div>"
      ],
      "text/plain": [
       "       SeniorCitizen       tenure  MonthlyCharges  TotalCharges        Churn\n",
       "count    5561.000000  5439.000000     5561.000000   5561.000000  5561.000000\n",
       "mean        0.160223    32.293988       64.933663   2261.764979     0.263082\n",
       "std         0.366846    24.624928       30.098449   2262.099846     0.440346\n",
       "min         0.000000     0.000000       18.250000     18.800000     0.000000\n",
       "25%         0.000000     9.000000       35.700000    396.100000     0.000000\n",
       "50%         0.000000    29.000000       70.450000   1380.100000     0.000000\n",
       "75%         0.000000    55.000000       89.950000   3723.650000     1.000000\n",
       "max         1.000000    72.000000      118.750000   8684.800000     1.000000"
      ]
     },
     "execution_count": 7,
     "metadata": {},
     "output_type": "execute_result"
    }
   ],
   "source": [
    "data.describe()"
   ]
  },
  {
   "cell_type": "code",
   "execution_count": 8,
   "metadata": {},
   "outputs": [
    {
     "name": "stdout",
     "output_type": "stream",
     "text": [
      "There are 1 discrete variables\n",
      "There are 3 continuous variables\n",
      "There are 15 categorical variables\n"
     ]
    }
   ],
   "source": [
    "discrete = [var for var in data.columns if data[var].dtype!='O' and var!='Churn' and data[var].nunique()<10]\n",
    "continuous = [var for var in data.columns if data[var].dtype!='O' and var!='Churn' and var not in discrete]\n",
    "categorical = [var for var in data.columns if data[var].dtype=='O'and var!='Churn']\n",
    "\n",
    "print(f'There are {len(discrete)} discrete variables')\n",
    "print(f'There are {len(continuous)} continuous variables')\n",
    "print(f'There are {len(categorical)} categorical variables')"
   ]
  },
  {
   "cell_type": "code",
   "execution_count": 9,
   "metadata": {},
   "outputs": [],
   "source": [
    "def diagnostic_plots(df, variable):\n",
    "    # function takes a dataframe (df) and\n",
    "    # the variable of interest as arguments\n",
    "\n",
    "    # define figure size\n",
    "    plt.figure(figsize=(16, 4))\n",
    "\n",
    "    # histogram\n",
    "    plt.subplot(1, 2, 1)\n",
    "    sns.distplot(df[variable], bins=30)\n",
    "    plt.title('Histogram')\n",
    "\n",
    "    # boxplot\n",
    "    plt.subplot(1, 2, 2)\n",
    "    sns.boxplot(y=df[variable])\n",
    "    plt.title('Boxplot')\n",
    "\n",
    "    plt.show()"
   ]
  },
  {
   "cell_type": "code",
   "execution_count": 10,
   "metadata": {
    "scrolled": true
   },
   "outputs": [
    {
     "name": "stderr",
     "output_type": "stream",
     "text": [
      "C:\\Users\\xiaoy\\Anaconda3\\envs\\buan6341_2020\\lib\\site-packages\\numpy\\lib\\histograms.py:839: RuntimeWarning: invalid value encountered in greater_equal\n",
      "  keep = (tmp_a >= first_edge)\n",
      "C:\\Users\\xiaoy\\Anaconda3\\envs\\buan6341_2020\\lib\\site-packages\\numpy\\lib\\histograms.py:840: RuntimeWarning: invalid value encountered in less_equal\n",
      "  keep &= (tmp_a <= last_edge)\n",
      "C:\\Users\\xiaoy\\Anaconda3\\envs\\buan6341_2020\\lib\\site-packages\\statsmodels\\nonparametric\\kde.py:447: RuntimeWarning: invalid value encountered in greater\n",
      "  X = X[np.logical_and(X > clip[0], X < clip[1])] # won't work for two columns.\n",
      "C:\\Users\\xiaoy\\Anaconda3\\envs\\buan6341_2020\\lib\\site-packages\\statsmodels\\nonparametric\\kde.py:447: RuntimeWarning: invalid value encountered in less\n",
      "  X = X[np.logical_and(X > clip[0], X < clip[1])] # won't work for two columns.\n"
     ]
    },
    {
     "data": {
      "image/png": "[encoded data removed]",
      "text/plain": [
       "<Figure size 1152x288 with 2 Axes>"
      ]
     },
     "metadata": {
      "needs_background": "light"
     },
     "output_type": "display_data"
    },
    {
     "data": {
      "image/png": "[encoded data removed]",
      "text/plain": [
       "<Figure size 1152x288 with 2 Axes>"
      ]
     },
     "metadata": {
      "needs_background": "light"
     },
     "output_type": "display_data"
    },
    {
     "data": {
      "image/png": "[encoded data removed]",
      "text/plain": [
       "<Figure size 1152x288 with 2 Axes>"
      ]
     },
     "metadata": {
      "needs_background": "light"
     },
     "output_type": "display_data"
    }
   ],
   "source": [
    "for var in continuous:\n",
    "    diagnostic_plots(data, var)"
   ]
  },
  {
   "cell_type": "markdown",
   "metadata": {},
   "source": [
    "# PreProcessing"
   ]
  },
  {
   "cell_type": "code",
   "execution_count": 11,
   "metadata": {},
   "outputs": [],
   "source": [
    "from sklearn.model_selection import train_test_split\n",
    "X_train, X_test, y_train, y_test = train_test_split(data.drop('Churn',axis=1), data['Churn'], test_size=0.2, random_state=0)"
   ]
  },
  {
   "cell_type": "code",
   "execution_count": 12,
   "metadata": {
    "scrolled": true
   },
   "outputs": [
    {
     "name": "stdout",
     "output_type": "stream",
     "text": [
      "Train size is (4448, 19)\n",
      "Test size is (1113, 19)\n"
     ]
    }
   ],
   "source": [
    "print(f'Train size is {X_train.shape}' )\n",
    "print(f'Test size is {X_test.shape}' )"
   ]
  },
  {
   "cell_type": "code",
   "execution_count": 13,
   "metadata": {},
   "outputs": [],
   "source": [
    "from feature_engine import missing_data_imputers as mdi\n",
    "from sklearn.pipeline import Pipeline\n",
    "from feature_engine.variable_transformers import YeoJohnsonTransformer\n",
    "from feature_engine import categorical_encoders as ce"
   ]
  },
  {
   "cell_type": "code",
   "execution_count": 14,
   "metadata": {},
   "outputs": [],
   "source": [
    "churn_pipeline = Pipeline([\n",
    "\n",
    "    # missing data imputation \n",
    "    ('imputer_num_arbit',\n",
    "     mdi.ArbitraryNumberImputer(arbitrary_number=-1,\n",
    "                                variables=['tenure'])),\n",
    "     ('imputer_cat_freq',\n",
    "     mdi.FrequentCategoryImputer(variables=['Dependents'])),\n",
    "\n",
    "     #categorical encoding\n",
    "    ('categorical_enc', ce.OrdinalCategoricalEncoder(\n",
    "        encoding_method='arbitrary', variables=categorical)),\n",
    "\n",
    "    ('yjt', YeoJohnsonTransformer(variables = ['tenure','MonthlyCharges', 'TotalCharges'])),\n",
    "\n",
    "])"
   ]
  },
  {
   "cell_type": "code",
   "execution_count": 15,
   "metadata": {
    "scrolled": true
   },
   "outputs": [
    {
     "data": {
      "text/plain": [
       "Pipeline(memory=None,\n",
       "         steps=[('imputer_num_arbit',\n",
       "                 ArbitraryNumberImputer(arbitrary_number=-1,\n",
       "                                        variables=['tenure'])),\n",
       "                ('imputer_cat_freq',\n",
       "                 FrequentCategoryImputer(variables=['Dependents'])),\n",
       "                ('categorical_enc',\n",
       "                 OrdinalCategoricalEncoder(encoding_method='arbitrary',\n",
       "                                           variables=['gender', 'Partner',\n",
       "                                                      'Dependents',\n",
       "                                                      'PhoneService',\n",
       "                                                      'MultipleLines',\n",
       "                                                      'InternetService',\n",
       "                                                      'OnlineSecurity',\n",
       "                                                      'OnlineBackup',\n",
       "                                                      'DeviceProtection',\n",
       "                                                      'TechSupport',\n",
       "                                                      'StreamingTV',\n",
       "                                                      'StreamingMovies',\n",
       "                                                      'Contract',\n",
       "                                                      'PaperlessBilling',\n",
       "                                                      'PaymentMethod'])),\n",
       "                ('yjt',\n",
       "                 YeoJohnsonTransformer(variables=['tenure', 'MonthlyCharges',\n",
       "                                                  'TotalCharges']))],\n",
       "         verbose=False)"
      ]
     },
     "execution_count": 15,
     "metadata": {},
     "output_type": "execute_result"
    }
   ],
   "source": [
    "churn_pipeline.fit(X_train)"
   ]
  },
  {
   "cell_type": "code",
   "execution_count": 16,
   "metadata": {},
   "outputs": [],
   "source": [
    "X_train=pd.DataFrame(churn_pipeline.transform(X_train),columns=X_train.columns)\n",
    "X_test=pd.DataFrame(churn_pipeline.transform(X_test),columns=X_test.columns)"
   ]
  },
  {
   "cell_type": "code",
   "execution_count": 17,
   "metadata": {},
   "outputs": [
    {
     "data": {
      "image/png": "[encoded data removed]",
      "text/plain": [
       "<Figure size 1152x288 with 2 Axes>"
      ]
     },
     "metadata": {
      "needs_background": "light"
     },
     "output_type": "display_data"
    },
    {
     "data": {
      "image/png": "[encoded data removed]",
      "text/plain": [
       "<Figure size 1152x288 with 2 Axes>"
      ]
     },
     "metadata": {
      "needs_background": "light"
     },
     "output_type": "display_data"
    },
    {
     "data": {
      "image/png": "[encoded data removed]",
      "text/plain": [
       "<Figure size 1152x288 with 2 Axes>"
      ]
     },
     "metadata": {
      "needs_background": "light"
     },
     "output_type": "display_data"
    }
   ],
   "source": [
    "for var in X_train[continuous]:\n",
    "    diagnostic_plots(X_train, var)"
   ]
  },
  {
   "cell_type": "code",
   "execution_count": 18,
   "metadata": {},
   "outputs": [
    {
     "data": {
      "text/html": [
       "<div>\n",
       "<style scoped>\n",
       "    .dataframe tbody tr th:only-of-type {\n",
       "        vertical-align: middle;\n",
       "    }\n",
       "\n",
       "    .dataframe tbody tr th {\n",
       "        vertical-align: top;\n",
       "    }\n",
       "\n",
       "    .dataframe thead th {\n",
       "        text-align: right;\n",
       "    }\n",
       "</style>\n",
       "<table border=\"1\" class=\"dataframe\">\n",
       "  <thead>\n",
       "    <tr style=\"text-align: right;\">\n",
       "      <th></th>\n",
       "      <th>gender</th>\n",
       "      <th>SeniorCitizen</th>\n",
       "      <th>Partner</th>\n",
       "      <th>Dependents</th>\n",
       "      <th>tenure</th>\n",
       "      <th>PhoneService</th>\n",
       "      <th>MultipleLines</th>\n",
       "      <th>InternetService</th>\n",
       "      <th>OnlineSecurity</th>\n",
       "      <th>OnlineBackup</th>\n",
       "      <th>DeviceProtection</th>\n",
       "      <th>TechSupport</th>\n",
       "      <th>StreamingTV</th>\n",
       "      <th>StreamingMovies</th>\n",
       "      <th>Contract</th>\n",
       "      <th>PaperlessBilling</th>\n",
       "      <th>PaymentMethod</th>\n",
       "      <th>MonthlyCharges</th>\n",
       "      <th>TotalCharges</th>\n",
       "    </tr>\n",
       "  </thead>\n",
       "  <tbody>\n",
       "    <tr>\n",
       "      <th>4358</th>\n",
       "      <td>0</td>\n",
       "      <td>0</td>\n",
       "      <td>0</td>\n",
       "      <td>0</td>\n",
       "      <td>5.139470</td>\n",
       "      <td>0</td>\n",
       "      <td>0</td>\n",
       "      <td>0</td>\n",
       "      <td>0</td>\n",
       "      <td>0</td>\n",
       "      <td>0</td>\n",
       "      <td>0</td>\n",
       "      <td>0</td>\n",
       "      <td>0</td>\n",
       "      <td>0</td>\n",
       "      <td>0</td>\n",
       "      <td>0</td>\n",
       "      <td>52.075998</td>\n",
       "      <td>16.387909</td>\n",
       "    </tr>\n",
       "    <tr>\n",
       "      <th>1189</th>\n",
       "      <td>0</td>\n",
       "      <td>0</td>\n",
       "      <td>1</td>\n",
       "      <td>1</td>\n",
       "      <td>1.938325</td>\n",
       "      <td>0</td>\n",
       "      <td>0</td>\n",
       "      <td>1</td>\n",
       "      <td>0</td>\n",
       "      <td>0</td>\n",
       "      <td>1</td>\n",
       "      <td>0</td>\n",
       "      <td>1</td>\n",
       "      <td>0</td>\n",
       "      <td>1</td>\n",
       "      <td>1</td>\n",
       "      <td>1</td>\n",
       "      <td>67.713739</td>\n",
       "      <td>12.063969</td>\n",
       "    </tr>\n",
       "    <tr>\n",
       "      <th>1790</th>\n",
       "      <td>1</td>\n",
       "      <td>0</td>\n",
       "      <td>1</td>\n",
       "      <td>1</td>\n",
       "      <td>4.894620</td>\n",
       "      <td>0</td>\n",
       "      <td>0</td>\n",
       "      <td>1</td>\n",
       "      <td>0</td>\n",
       "      <td>0</td>\n",
       "      <td>0</td>\n",
       "      <td>0</td>\n",
       "      <td>1</td>\n",
       "      <td>0</td>\n",
       "      <td>1</td>\n",
       "      <td>1</td>\n",
       "      <td>2</td>\n",
       "      <td>62.074075</td>\n",
       "      <td>18.268393</td>\n",
       "    </tr>\n",
       "    <tr>\n",
       "      <th>624</th>\n",
       "      <td>1</td>\n",
       "      <td>0</td>\n",
       "      <td>1</td>\n",
       "      <td>1</td>\n",
       "      <td>3.481118</td>\n",
       "      <td>0</td>\n",
       "      <td>0</td>\n",
       "      <td>2</td>\n",
       "      <td>1</td>\n",
       "      <td>1</td>\n",
       "      <td>2</td>\n",
       "      <td>1</td>\n",
       "      <td>2</td>\n",
       "      <td>1</td>\n",
       "      <td>1</td>\n",
       "      <td>1</td>\n",
       "      <td>2</td>\n",
       "      <td>17.262952</td>\n",
       "      <td>9.750471</td>\n",
       "    </tr>\n",
       "    <tr>\n",
       "      <th>4643</th>\n",
       "      <td>0</td>\n",
       "      <td>0</td>\n",
       "      <td>1</td>\n",
       "      <td>1</td>\n",
       "      <td>1.938325</td>\n",
       "      <td>0</td>\n",
       "      <td>1</td>\n",
       "      <td>0</td>\n",
       "      <td>0</td>\n",
       "      <td>0</td>\n",
       "      <td>0</td>\n",
       "      <td>2</td>\n",
       "      <td>0</td>\n",
       "      <td>2</td>\n",
       "      <td>1</td>\n",
       "      <td>0</td>\n",
       "      <td>3</td>\n",
       "      <td>52.452776</td>\n",
       "      <td>27.278206</td>\n",
       "    </tr>\n",
       "  </tbody>\n",
       "</table>\n",
       "</div>"
      ],
      "text/plain": [
       "      gender  SeniorCitizen  Partner  Dependents    tenure  PhoneService  \\\n",
       "4358       0              0        0           0  5.139470             0   \n",
       "1189       0              0        1           1  1.938325             0   \n",
       "1790       1              0        1           1  4.894620             0   \n",
       "624        1              0        1           1  3.481118             0   \n",
       "4643       0              0        1           1  1.938325             0   \n",
       "\n",
       "      MultipleLines  InternetService  OnlineSecurity  OnlineBackup  \\\n",
       "4358              0                0               0             0   \n",
       "1189              0                1               0             0   \n",
       "1790              0                1               0             0   \n",
       "624               0                2               1             1   \n",
       "4643              1                0               0             0   \n",
       "\n",
       "      DeviceProtection  TechSupport  StreamingTV  StreamingMovies  Contract  \\\n",
       "4358                 0            0            0                0         0   \n",
       "1189                 1            0            1                0         1   \n",
       "1790                 0            0            1                0         1   \n",
       "624                  2            1            2                1         1   \n",
       "4643                 0            2            0                2         1   \n",
       "\n",
       "      PaperlessBilling  PaymentMethod  MonthlyCharges  TotalCharges  \n",
       "4358                 0              0       52.075998     16.387909  \n",
       "1189                 1              1       67.713739     12.063969  \n",
       "1790                 1              2       62.074075     18.268393  \n",
       "624                  1              2       17.262952      9.750471  \n",
       "4643                 0              3       52.452776     27.278206  "
      ]
     },
     "execution_count": 18,
     "metadata": {},
     "output_type": "execute_result"
    }
   ],
   "source": [
    "X_train.head()"
   ]
  },
  {
   "cell_type": "markdown",
   "metadata": {},
   "source": [
    "# Select metric for evaluation----F1"
   ]
  },
  {
   "cell_type": "code",
   "execution_count": 19,
   "metadata": {},
   "outputs": [
    {
     "name": "stdout",
     "output_type": "stream",
     "text": [
      "Unique predicted labels: [0]\n",
      "Test score: 0.74\n"
     ]
    }
   ],
   "source": [
    "from sklearn.dummy import DummyClassifier\n",
    "\n",
    "dummy_majority = DummyClassifier(strategy='most_frequent')\n",
    "dummy_majority.fit(X_train, y_train)\n",
    "\n",
    "pred_most_frequent = dummy_majority.predict(X_test)\n",
    "\n",
    "print(\"Unique predicted labels: {}\".format(np.unique(pred_most_frequent)))\n",
    "print(\"Test score: {:.2f}\".format(dummy_majority.score(X_test, y_test)))"
   ]
  },
  {
   "cell_type": "markdown",
   "metadata": {},
   "source": [
    "# Basic Algorithms "
   ]
  },
  {
   "cell_type": "markdown",
   "metadata": {},
   "source": [
    "## Naive Algorithms"
   ]
  },
  {
   "cell_type": "code",
   "execution_count": 20,
   "metadata": {},
   "outputs": [
    {
     "name": "stdout",
     "output_type": "stream",
     "text": [
      "Mean Cross-validation scores: 0.2657341629063238\n",
      "\n",
      "Naive Algorithm Test Performance:  0.6307277628032345\n"
     ]
    }
   ],
   "source": [
    "from sklearn.dummy import DummyClassifier\n",
    "from sklearn.model_selection import cross_val_score\n",
    "model_dummy = DummyClassifier(strategy='stratified',random_state=123)\n",
    "model_dummy.fit(X_train,y_train)\n",
    "cv_scores = cross_val_score(model_dummy, X_train, y_train,scoring='f1')\n",
    "\n",
    "# Mean Cross validation Score\n",
    "print(\"Mean Cross-validation scores: {}\".format(cv_scores.mean()))\n",
    "print()\n",
    "\n",
    "# Check test data set performance\n",
    "print(\"Naive Algorithm Test Performance: \", model_dummy.score(X_test,y_test))"
   ]
  },
  {
   "cell_type": "markdown",
   "metadata": {},
   "source": [
    "## Logistic Regression"
   ]
  },
  {
   "cell_type": "code",
   "execution_count": 25,
   "metadata": {},
   "outputs": [],
   "source": [
    "from sklearn.model_selection import GridSearchCV\n",
    "from sklearn.metrics import make_scorer\n",
    "from sklearn.metrics import fbeta_score"
   ]
  },
  {
   "cell_type": "code",
   "execution_count": 30,
   "metadata": {},
   "outputs": [
    {
     "data": {
      "text/plain": [
       "GridSearchCV(cv=5, error_score=nan,\n",
       "             estimator=LogisticRegression(C=1.0, class_weight=None, dual=False,\n",
       "                                          fit_intercept=True,\n",
       "                                          intercept_scaling=1, l1_ratio=None,\n",
       "                                          max_iter=1000, multi_class='auto',\n",
       "                                          n_jobs=None, penalty='l2',\n",
       "                                          random_state=None, solver='lbfgs',\n",
       "                                          tol=0.0001, verbose=0,\n",
       "                                          warm_start=False),\n",
       "             iid='deprecated', n_jobs=None,\n",
       "             param_grid={'C': [0.001, 0.01, 0.1, 1, 10, 100],\n",
       "                         'penalty': ['l2']},\n",
       "             pre_dispatch='2*n_jobs', refit=True, return_train_score=True,\n",
       "             scoring='f1', verbose=0)"
      ]
     },
     "execution_count": 30,
     "metadata": {},
     "output_type": "execute_result"
    }
   ],
   "source": [
    "from sklearn.linear_model import LogisticRegression\n",
    "logreg=LogisticRegression(max_iter=1000)\n",
    "logreg_param= {'C': [0.001,0.01,0.1,1,10,100], 'penalty': ['l2']}\n",
    "\n",
    "logreg_grid = GridSearchCV(logreg, logreg_param,cv=5, return_train_score=True, scoring='f1')\n",
    "logreg_grid.fit(X_train,y_train)"
   ]
  },
  {
   "cell_type": "code",
   "execution_count": 31,
   "metadata": {},
   "outputs": [
    {
     "name": "stdout",
     "output_type": "stream",
     "text": [
      "Best Mean Cross Validation Score is 0.5614592890380571\n",
      "Best Mean Cross Validation Score is {'C': 1, 'penalty': 'l2'}\n",
      "Train score is 0.5692007797270955\n",
      "Test score is 0.53411306042885\n"
     ]
    }
   ],
   "source": [
    "print(f'Best Mean Cross Validation Score is {logreg_grid.best_score_}')\n",
    "print(f'Best Mean Cross Validation Score is {logreg_grid.best_params_}')\n",
    "print(f'Train score is {logreg_grid.score(X_train,y_train)}')\n",
    "print(f'Test score is {logreg_grid.score(X_test,y_test)}')"
   ]
  },
  {
   "cell_type": "markdown",
   "metadata": {},
   "source": [
    "## Decision Tree classification"
   ]
  },
  {
   "cell_type": "code",
   "execution_count": 32,
   "metadata": {},
   "outputs": [
    {
     "name": "stdout",
     "output_type": "stream",
     "text": [
      "Best Mean Cross-validation score: 0.54\n",
      "\n",
      "Decision Tree parameters:  {'max_depth': 2, 'max_leaf_nodes': 3, 'min_samples_split': 2, 'splitter': 'best'}\n",
      "Decision Tree test Performance:  0.5441941074523396\n",
      "Decision Tree train Performance:  0.5435851586946803\n"
     ]
    }
   ],
   "source": [
    "from sklearn.tree import DecisionTreeClassifier\n",
    "dtree = DecisionTreeClassifier(random_state=0)\n",
    "\n",
    "#define a list of parameters\n",
    "param_dtree = {\"max_depth\": range(1,10),\n",
    "           \"min_samples_split\": range(2,10,1),\n",
    "           \"max_leaf_nodes\": range(2,6),\n",
    "              \"splitter\": [\"best\", \"random\"]}\n",
    "\n",
    "#apply grid search\n",
    "grid_dtree = GridSearchCV(dtree, param_dtree, cv=5, return_train_score = True,scoring='f1')\n",
    "grid_dtree.fit(X_train, y_train)\n",
    "\n",
    "# Mean Cross Validation Score\n",
    "print(\"Best Mean Cross-validation score: {:.2f}\".format(grid_dtree.best_score_))\n",
    "print()\n",
    "\n",
    "#find best parameters\n",
    "print('Decision Tree parameters: ', grid_dtree.best_params_)\n",
    "\n",
    "# Check test data set performance\n",
    "print(\"Decision Tree test Performance: \", grid_dtree.score(X_test,y_test))\n",
    "print(\"Decision Tree train Performance: \", grid_dtree.score(X_train,y_train))"
   ]
  },
  {
   "cell_type": "markdown",
   "metadata": {},
   "source": [
    "## KNN"
   ]
  },
  {
   "cell_type": "code",
   "execution_count": 33,
   "metadata": {},
   "outputs": [
    {
     "data": {
      "text/plain": [
       "GridSearchCV(cv=5, error_score=nan,\n",
       "             estimator=KNeighborsClassifier(algorithm='auto', leaf_size=30,\n",
       "                                            metric='minkowski',\n",
       "                                            metric_params=None, n_jobs=None,\n",
       "                                            n_neighbors=5, p=2,\n",
       "                                            weights='uniform'),\n",
       "             iid='deprecated', n_jobs=None,\n",
       "             param_grid={'n_neighbors': range(1, 20), 'p': [1, 2],\n",
       "                         'weights': ['uniform', 'distance']},\n",
       "             pre_dispatch='2*n_jobs', refit=True, return_train_score=True,\n",
       "             scoring='f1', verbose=0)"
      ]
     },
     "execution_count": 33,
     "metadata": {},
     "output_type": "execute_result"
    }
   ],
   "source": [
    "from sklearn.neighbors import KNeighborsClassifier\n",
    "\n",
    "knn = KNeighborsClassifier()\n",
    "\n",
    "# define a list of parameters\n",
    "\n",
    "param_knn = {'p': [1,2], 'n_neighbors' : range(1,20), 'weights': ['uniform','distance']}\n",
    "\n",
    "#apply grid search\n",
    "grid_knn = GridSearchCV(knn, param_knn, cv=5, return_train_score=True,scoring='f1')\n",
    "grid_knn.fit(X_train, y_train)"
   ]
  },
  {
   "cell_type": "code",
   "execution_count": 34,
   "metadata": {},
   "outputs": [
    {
     "name": "stdout",
     "output_type": "stream",
     "text": [
      "Best Mean Cross Validation Score is 0.5782491512701027\n",
      "Best Mean Cross Validation Score is {'n_neighbors': 17, 'p': 1, 'weights': 'uniform'}\n",
      "Train score is 0.6284941388638413\n",
      "Test score is 0.5628318584070797\n"
     ]
    }
   ],
   "source": [
    "print(f'Best Mean Cross Validation Score is {grid_knn.best_score_}')\n",
    "print(f'Best Mean Cross Validation Score is {grid_knn.best_params_}')\n",
    "print(f'Train score is {grid_knn.score(X_train,y_train)}')\n",
    "print(f'Test score is {grid_knn.score(X_test,y_test)}')"
   ]
  },
  {
   "cell_type": "markdown",
   "metadata": {},
   "source": [
    "## SVM"
   ]
  },
  {
   "cell_type": "code",
   "execution_count": 94,
   "metadata": {},
   "outputs": [],
   "source": [
    "from sklearn.svm import SVC\n",
    "from sklearn.model_selection import GridSearchCV"
   ]
  },
  {
   "cell_type": "markdown",
   "metadata": {},
   "source": [
    "### linear svc"
   ]
  },
  {
   "cell_type": "code",
   "execution_count": 96,
   "metadata": {},
   "outputs": [],
   "source": [
    "from sklearn.preprocessing import MinMaxScaler\n",
    "scaler = MinMaxScaler()\n",
    "X_train_s = scaler.fit_transform(X_train)\n",
    "X_test_s = scaler.transform(X_test)"
   ]
  },
  {
   "cell_type": "code",
   "execution_count": 97,
   "metadata": {},
   "outputs": [
    {
     "data": {
      "text/plain": [
       "GridSearchCV(cv=5, error_score=nan,\n",
       "             estimator=SVC(C=1.0, break_ties=False, cache_size=200,\n",
       "                           class_weight=None, coef0=0.0,\n",
       "                           decision_function_shape='ovr', degree=3,\n",
       "                           gamma='scale', kernel='linear', max_iter=-1,\n",
       "                           probability=True, random_state=None, shrinking=True,\n",
       "                           tol=0.001, verbose=False),\n",
       "             iid='deprecated', n_jobs=None,\n",
       "             param_grid={'C': [0.1, 1, 10, 100, 200, 500]},\n",
       "             pre_dispatch='2*n_jobs', refit=True, return_train_score=True,\n",
       "             scoring='f1', verbose=0)"
      ]
     },
     "execution_count": 97,
     "metadata": {},
     "output_type": "execute_result"
    }
   ],
   "source": [
    "svc_linear=SVC(kernel='linear',probability=True)\n",
    "param_grid = {'C': [0.1, 1, 10,100,200,500]}\n",
    "grid_svc = GridSearchCV(svc_linear, param_grid, cv=5, return_train_score=True,scoring='f1')\n",
    "grid_svc.fit(X_train_s, y_train)"
   ]
  },
  {
   "cell_type": "code",
   "execution_count": 98,
   "metadata": {},
   "outputs": [
    {
     "name": "stdout",
     "output_type": "stream",
     "text": [
      "Best Mean Cross Validation Score is 0.5606548673410745\n",
      "Best Mean Cross Validation Score is {'C': 500}\n",
      "Train score is 0.5708756652152879\n",
      "Test score is 0.5472061657032755\n"
     ]
    }
   ],
   "source": [
    "print(f'Best Mean Cross Validation Score is {grid_svc.best_score_}')\n",
    "print(f'Best Mean Cross Validation Score is {grid_svc.best_params_}')\n",
    "print(f'Train score is {grid_svc.score(X_train_s,y_train)}')\n",
    "print(f'Test score is {grid_svc.score(X_test_s,y_test)}')"
   ]
  },
  {
   "cell_type": "markdown",
   "metadata": {},
   "source": [
    "### scv with rbf, polynomial and sigmoid kernels"
   ]
  },
  {
   "cell_type": "code",
   "execution_count": 99,
   "metadata": {},
   "outputs": [
    {
     "name": "stdout",
     "output_type": "stream",
     "text": [
      "train score:  0.6501193317422433\n",
      "test score:  0.5708955223880596\n",
      "{'C': 10, 'gamma': 0.01}\n",
      "Best Mean Cross-validation score: 0.57\n"
     ]
    }
   ],
   "source": [
    "svc_kernel = SVC(kernel = 'rbf',probability=True)\n",
    "\n",
    "#define a list of parameters\n",
    "param_svc_kernel = {'C': [1,10,50,100,150],'gamma':[0.001,0.005,0.01,0.1,1]}\n",
    "\n",
    "#apply grid search\n",
    "grid_svc_rbf = GridSearchCV(svc_kernel, param_svc_kernel, cv=5, n_jobs=2,scoring='f1')\n",
    "grid_svc_rbf.fit(X_train, y_train)\n",
    "\n",
    "print('train score: ', grid_svc_rbf.score(X_train, y_train))\n",
    "print('test score: ', grid_svc_rbf.score(X_test, y_test))\n",
    "print(grid_svc_rbf.best_params_)\n",
    "print(\"Best Mean Cross-validation score: {:.2f}\".format(grid_svc_rbf.best_score_))"
   ]
  },
  {
   "cell_type": "code",
   "execution_count": 100,
   "metadata": {},
   "outputs": [
    {
     "name": "stdout",
     "output_type": "stream",
     "text": [
      "train score:  0.5687804878048781\n",
      "test score:  0.5348837209302325\n",
      "Best parameters: {'C': 100, 'degree': 1}\n",
      "Best cross-validation score: 0.55\n"
     ]
    }
   ],
   "source": [
    "svc_linear=SVC(kernel='poly',probability=True)\n",
    "param_grid = {'C': [0.001, 0.01, 0.1, 1, 10, 100],'degree':[1,2,3]}\n",
    "grid_svc_poly = GridSearchCV(svc_linear, param_grid, cv=5,scoring='f1')\n",
    "grid_svc_poly.fit(X_train, y_train)\n",
    "print('train score: ', grid_svc_poly.score(X_train, y_train))\n",
    "print('test score: ', grid_svc_poly.score(X_test, y_test))\n",
    "print(\"Best parameters: {}\".format(grid_svc_poly.best_params_))\n",
    "print(\"Best cross-validation score: {:.2f}\".format(grid_svc_poly.best_score_))"
   ]
  },
  {
   "cell_type": "code",
   "execution_count": 101,
   "metadata": {},
   "outputs": [
    {
     "name": "stdout",
     "output_type": "stream",
     "text": [
      "train score:  0.29705505761843787\n",
      "test score:  0.27739726027397255\n",
      "Best parameters: {'C': 10}\n",
      "Best cross-validation score: 0.30\n"
     ]
    }
   ],
   "source": [
    "svc_linear=SVC(kernel='sigmoid',probability=True)\n",
    "param_grid = {'C': [0.01,0.02, 0.1, 1, 10]}\n",
    "grid_svc_s = GridSearchCV(svc_linear, param_grid, cv=5,scoring='f1')\n",
    "grid_svc_s.fit(X_train, y_train)\n",
    "print('train score: ', grid_svc_s.score(X_train, y_train))\n",
    "print('test score: ', grid_svc_s.score(X_test, y_test))\n",
    "print(\"Best parameters: {}\".format(grid_svc_s.best_params_))\n",
    "print(\"Best cross-validation score: {:.2f}\".format(grid_svc_s.best_score_))"
   ]
  },
  {
   "cell_type": "markdown",
   "metadata": {},
   "source": [
    "## Random forest"
   ]
  },
  {
   "cell_type": "code",
   "execution_count": 102,
   "metadata": {},
   "outputs": [
    {
     "data": {
      "text/plain": [
       "GridSearchCV(cv=5, error_score=nan,\n",
       "             estimator=RandomForestClassifier(bootstrap=True, ccp_alpha=0.0,\n",
       "                                              class_weight=None,\n",
       "                                              criterion='gini', max_depth=None,\n",
       "                                              max_features='auto',\n",
       "                                              max_leaf_nodes=None,\n",
       "                                              max_samples=None,\n",
       "                                              min_impurity_decrease=0.0,\n",
       "                                              min_impurity_split=None,\n",
       "                                              min_samples_leaf=1,\n",
       "                                              min_samples_split=2,\n",
       "                                              min_weight_fraction_leaf=0.0,\n",
       "                                              n_estimators=100, n_jobs=None,\n",
       "                                              oob_score=False, random_state=42,\n",
       "                                              verbose=0, warm_start=False),\n",
       "             iid='deprecated', n_jobs=None,\n",
       "             param_grid={'criterion': ['gini', 'entropy'],\n",
       "                         'max_depth': [2, 4, 5, 6, 7, 8],\n",
       "                         'max_features': ['auto', 'sqrt', 'log2'],\n",
       "                         'n_estimators': [200, 500]},\n",
       "             pre_dispatch='2*n_jobs', refit=True, return_train_score=True,\n",
       "             scoring='f1', verbose=0)"
      ]
     },
     "execution_count": 102,
     "metadata": {},
     "output_type": "execute_result"
    }
   ],
   "source": [
    "from sklearn.ensemble import RandomForestClassifier\n",
    "rfc =RandomForestClassifier(random_state=42)\n",
    "rfc_param = { \n",
    "    'n_estimators': [200, 500],\n",
    "    'max_features': ['auto', 'sqrt', 'log2'],\n",
    "    'max_depth' : [2,4,5,6,7,8],\n",
    "    'criterion' :['gini', 'entropy']\n",
    "}\n",
    "\n",
    "rfc_grid = GridSearchCV(rfc, rfc_param,cv=5, return_train_score=True,scoring='f1' )\n",
    "rfc_grid.fit(X_train,y_train)"
   ]
  },
  {
   "cell_type": "code",
   "execution_count": 103,
   "metadata": {
    "scrolled": true
   },
   "outputs": [
    {
     "name": "stdout",
     "output_type": "stream",
     "text": [
      "Best Mean Cross Validation Score is 0.5722867157749454\n",
      "Best Mean Cross Validation Score is {'criterion': 'gini', 'max_depth': 8, 'max_features': 'auto', 'n_estimators': 500}\n",
      "Train score is 0.664756446991404\n",
      "Test score is 0.5566218809980806\n"
     ]
    }
   ],
   "source": [
    "print(f'Best Mean Cross Validation Score is {rfc_grid.best_score_}')\n",
    "print(f'Best Mean Cross Validation Score is {rfc_grid.best_params_}')\n",
    "print(f'Train score is {rfc_grid.score(X_train,y_train)}')\n",
    "print(f'Test score is {rfc_grid.score(X_test,y_test)}')"
   ]
  },
  {
   "cell_type": "markdown",
   "metadata": {},
   "source": [
    "## Extra tree"
   ]
  },
  {
   "cell_type": "code",
   "execution_count": 104,
   "metadata": {},
   "outputs": [],
   "source": [
    "from  sklearn.ensemble import ExtraTreesClassifier"
   ]
  },
  {
   "cell_type": "code",
   "execution_count": 105,
   "metadata": {},
   "outputs": [
    {
     "data": {
      "text/plain": [
       "GridSearchCV(cv=5, error_score=nan,\n",
       "             estimator=ExtraTreesClassifier(bootstrap=False, ccp_alpha=0.0,\n",
       "                                            class_weight=None, criterion='gini',\n",
       "                                            max_depth=None, max_features='auto',\n",
       "                                            max_leaf_nodes=None,\n",
       "                                            max_samples=None,\n",
       "                                            min_impurity_decrease=0.0,\n",
       "                                            min_impurity_split=None,\n",
       "                                            min_samples_leaf=1,\n",
       "                                            min_samples_split=2,\n",
       "                                            min_weight_fraction_leaf=0.0,\n",
       "                                            n_estimators=100, n_jobs=None,\n",
       "                                            oob_score=False, random_state=42,\n",
       "                                            verbose=0, warm_start=False),\n",
       "             iid='deprecated', n_jobs=None,\n",
       "             param_grid={'criterion': ['gini', 'entropy'],\n",
       "                         'max_depth': [2, 4, 5, 6, 7, 8],\n",
       "                         'max_features': ['auto', 'sqrt', 'log2'],\n",
       "                         'n_estimators': [200, 500]},\n",
       "             pre_dispatch='2*n_jobs', refit=True, return_train_score=True,\n",
       "             scoring='f1', verbose=0)"
      ]
     },
     "execution_count": 105,
     "metadata": {},
     "output_type": "execute_result"
    }
   ],
   "source": [
    "etc= ExtraTreesClassifier(random_state=42)\n",
    "etc_param = { \n",
    "    'n_estimators': [200, 500],\n",
    "    'max_features': ['auto', 'sqrt', 'log2'],\n",
    "    'max_depth' : [2,4,5,6,7,8],\n",
    "    'criterion' :['gini', 'entropy']\n",
    "}\n",
    "etc_grid = GridSearchCV(etc, etc_param,cv=5, return_train_score=True,scoring='f1' )\n",
    "etc_grid.fit(X_train,y_train)"
   ]
  },
  {
   "cell_type": "code",
   "execution_count": 106,
   "metadata": {
    "scrolled": true
   },
   "outputs": [
    {
     "name": "stdout",
     "output_type": "stream",
     "text": [
      "Best Mean Cross Validation Score is 0.5558099172190027\n",
      "Best Mean Cross Validation Score is {'criterion': 'entropy', 'max_depth': 8, 'max_features': 'auto', 'n_estimators': 200}\n",
      "Train score is 0.6104023552502454\n",
      "Test score is 0.5443786982248521\n"
     ]
    }
   ],
   "source": [
    "print(f'Best Mean Cross Validation Score is {etc_grid.best_score_}')\n",
    "print(f'Best Mean Cross Validation Score is {etc_grid.best_params_}')\n",
    "print(f'Train score is {etc_grid.score(X_train,y_train)}')\n",
    "print(f'Test score is {etc_grid.score(X_test,y_test)}')"
   ]
  },
  {
   "cell_type": "markdown",
   "metadata": {},
   "source": [
    "## GBoost"
   ]
  },
  {
   "cell_type": "code",
   "execution_count": 107,
   "metadata": {},
   "outputs": [
    {
     "data": {
      "text/plain": [
       "GridSearchCV(cv=5, error_score=nan,\n",
       "             estimator=GradientBoostingClassifier(ccp_alpha=0.0,\n",
       "                                                  criterion='friedman_mse',\n",
       "                                                  init=None, learning_rate=0.1,\n",
       "                                                  loss='deviance', max_depth=3,\n",
       "                                                  max_features=None,\n",
       "                                                  max_leaf_nodes=None,\n",
       "                                                  min_impurity_decrease=0.0,\n",
       "                                                  min_impurity_split=None,\n",
       "                                                  min_samples_leaf=1,\n",
       "                                                  min_samples_split=2,\n",
       "                                                  min_weight_fraction_leaf=0.0,\n",
       "                                                  n_estimators=100,\n",
       "                                                  n_iter_no_change=None,\n",
       "                                                  presort='deprecated',\n",
       "                                                  random_state=42,\n",
       "                                                  subsample=1.0, tol=0.0001,\n",
       "                                                  validation_fraction=0.1,\n",
       "                                                  verbose=0, warm_start=False),\n",
       "             iid='deprecated', n_jobs=None,\n",
       "             param_grid={'learning_rate': [0.5, 1.0, 2], 'max_depth': [2, 3, 4],\n",
       "                         'n_estimators': [100, 150]},\n",
       "             pre_dispatch='2*n_jobs', refit=True, return_train_score=True,\n",
       "             scoring='f1', verbose=0)"
      ]
     },
     "execution_count": 107,
     "metadata": {},
     "output_type": "execute_result"
    }
   ],
   "source": [
    "from  sklearn.ensemble import GradientBoostingClassifier\n",
    "\n",
    "gbc= GradientBoostingClassifier(random_state=42)\n",
    "gbc_param = {\n",
    "              'max_depth' : [2,3,4],\n",
    "              'n_estimators' : [100,150],\n",
    "              'learning_rate' : [0.5,1.0,2],\n",
    "             }\n",
    "gbc_grid = GridSearchCV(gbc, gbc_param,cv=5, return_train_score=True,scoring='f1' )\n",
    "gbc_grid.fit(X_train,y_train)"
   ]
  },
  {
   "cell_type": "code",
   "execution_count": 108,
   "metadata": {
    "scrolled": true
   },
   "outputs": [
    {
     "name": "stdout",
     "output_type": "stream",
     "text": [
      "Best Mean Cross Validation Score is 0.5708405343053444\n",
      "Best Mean Cross Validation Score is {'learning_rate': 0.5, 'max_depth': 2, 'n_estimators': 100}\n",
      "Train score is 0.684407096171802\n",
      "Test score is 0.5930018416206262\n"
     ]
    }
   ],
   "source": [
    "print(f'Best Mean Cross Validation Score is {gbc_grid.best_score_}')\n",
    "print(f'Best Mean Cross Validation Score is {gbc_grid.best_params_}')\n",
    "print(f'Train score is {gbc_grid.score(X_train,y_train)}')\n",
    "print(f'Test score is {gbc_grid.score(X_test,y_test)}')"
   ]
  },
  {
   "cell_type": "markdown",
   "metadata": {},
   "source": [
    "## XGBoost"
   ]
  },
  {
   "cell_type": "code",
   "execution_count": 109,
   "metadata": {},
   "outputs": [],
   "source": [
    "from xgboost import XGBClassifier"
   ]
  },
  {
   "cell_type": "code",
   "execution_count": 110,
   "metadata": {},
   "outputs": [
    {
     "data": {
      "text/plain": [
       "GridSearchCV(cv=5, error_score=nan,\n",
       "             estimator=XGBClassifier(base_score=None, booster=None,\n",
       "                                     colsample_bylevel=None,\n",
       "                                     colsample_bynode=None,\n",
       "                                     colsample_bytree=None,\n",
       "                                     early_stopping_rounds=2, gamma=None,\n",
       "                                     gpu_id=None, importance_type='gain',\n",
       "                                     interaction_constraints=None,\n",
       "                                     learning_rate=None, max_delta_step=None,\n",
       "                                     max_depth=None, min_child_weight=None,\n",
       "                                     missing=nan, monotone_...\n",
       "                                     reg_lambda=None, scale_pos_weight=None,\n",
       "                                     subsample=None, tree_method=None,\n",
       "                                     validate_parameters=False,\n",
       "                                     verbosity=None),\n",
       "             iid='deprecated', n_jobs=None,\n",
       "             param_grid={'learning_rate': [0.1, 0.5, 0.6, 0.8],\n",
       "                         'max_depth': [2, 4, 6],\n",
       "                         'min_child_weight': [1, 3, 5, 7],\n",
       "                         'n_estimators': [50, 100, 150],\n",
       "                         'subsample': [0.6, 0.7, 0.8, 0.9, 1]},\n",
       "             pre_dispatch='2*n_jobs', refit=True, return_train_score=True,\n",
       "             scoring='f1', verbose=0)"
      ]
     },
     "execution_count": 110,
     "metadata": {},
     "output_type": "execute_result"
    }
   ],
   "source": [
    "xgbc= XGBClassifier(random_state=42,early_stopping_rounds=2,objective= 'binary:logistic')\n",
    "xgbc_param = {\n",
    "              'max_depth' : [2,4,6],\n",
    "              'n_estimators' : [50,100,150],\n",
    "              'learning_rate' : [0.1,0.5,0.6,0.8],\n",
    "               'min_child_weight' : [1,3,5,7],\n",
    "                'subsample':[0.6,0.7,0.8,0.9,1]\n",
    "             }\n",
    "xgbc_grid = GridSearchCV(xgbc, xgbc_param,cv=5, return_train_score=True,scoring='f1' )\n",
    "xgbc_grid.fit(X_train,y_train)"
   ]
  },
  {
   "cell_type": "code",
   "execution_count": 111,
   "metadata": {},
   "outputs": [
    {
     "name": "stdout",
     "output_type": "stream",
     "text": [
      "Best Mean Cross Validation Score is 0.6052890929449943\n",
      "Best Mean Cross Validation Score is {'learning_rate': 0.1, 'max_depth': 4, 'min_child_weight': 5, 'n_estimators': 100, 'subsample': 0.9}\n",
      "Train score is 0.664461247637051\n",
      "Test score is 0.5899814471243043\n"
     ]
    }
   ],
   "source": [
    "print(f'Best Mean Cross Validation Score is {xgbc_grid.best_score_}')\n",
    "print(f'Best Mean Cross Validation Score is {xgbc_grid.best_params_}')\n",
    "print(f'Train score is {xgbc_grid.score(X_train,y_train)}')\n",
    "print(f'Test score is {xgbc_grid.score(X_test,y_test)}')"
   ]
  },
  {
   "cell_type": "markdown",
   "metadata": {},
   "source": [
    "## Summary"
   ]
  },
  {
   "cell_type": "code",
   "execution_count": 112,
   "metadata": {},
   "outputs": [],
   "source": [
    "classifiers={'knn':grid_knn,\n",
    "             'logreg':logreg_grid,\n",
    "             'lsvc':grid_svc,\n",
    "             'svc_rbf':grid_svc_rbf,\n",
    "             'svc_poly':grid_svc_poly,\n",
    "             'svc_sigmoid':grid_svc_s,\n",
    "             'dtree':grid_dtree,\n",
    "             'rfc': rfc_grid,\n",
    "             'etc': etc_grid,\n",
    "             'gbc': gbc_grid,\n",
    "             'xgbc': xgbc_grid}"
   ]
  },
  {
   "cell_type": "code",
   "execution_count": 113,
   "metadata": {},
   "outputs": [],
   "source": [
    "results_mean_std = []\n",
    "for  key, value in classifiers.items():\n",
    "    mean = value.cv_results_['mean_test_score'][value.best_index_]\n",
    "    std=value.cv_results_['std_test_score'][value.best_index_]\n",
    "     \n",
    "    results_mean_std.append({\n",
    "        \"model\": key,\n",
    "        \"mean\": mean,\n",
    "        \"std\": std\n",
    "    })"
   ]
  },
  {
   "cell_type": "code",
   "execution_count": 114,
   "metadata": {},
   "outputs": [],
   "source": [
    "accuracy_df = pd.DataFrame(results_mean_std, columns=['model', 'mean', 'std'])"
   ]
  },
  {
   "cell_type": "code",
   "execution_count": 115,
   "metadata": {},
   "outputs": [
    {
     "data": {
      "text/html": [
       "<div>\n",
       "<style scoped>\n",
       "    .dataframe tbody tr th:only-of-type {\n",
       "        vertical-align: middle;\n",
       "    }\n",
       "\n",
       "    .dataframe tbody tr th {\n",
       "        vertical-align: top;\n",
       "    }\n",
       "\n",
       "    .dataframe thead th {\n",
       "        text-align: right;\n",
       "    }\n",
       "</style>\n",
       "<table border=\"1\" class=\"dataframe\">\n",
       "  <thead>\n",
       "    <tr style=\"text-align: right;\">\n",
       "      <th></th>\n",
       "      <th>model</th>\n",
       "      <th>mean</th>\n",
       "      <th>std</th>\n",
       "    </tr>\n",
       "  </thead>\n",
       "  <tbody>\n",
       "    <tr>\n",
       "      <th>10</th>\n",
       "      <td>xgbc</td>\n",
       "      <td>0.605289</td>\n",
       "      <td>0.028299</td>\n",
       "    </tr>\n",
       "    <tr>\n",
       "      <th>0</th>\n",
       "      <td>knn</td>\n",
       "      <td>0.578249</td>\n",
       "      <td>0.040991</td>\n",
       "    </tr>\n",
       "    <tr>\n",
       "      <th>7</th>\n",
       "      <td>rfc</td>\n",
       "      <td>0.572287</td>\n",
       "      <td>0.023748</td>\n",
       "    </tr>\n",
       "    <tr>\n",
       "      <th>9</th>\n",
       "      <td>gbc</td>\n",
       "      <td>0.570841</td>\n",
       "      <td>0.021288</td>\n",
       "    </tr>\n",
       "    <tr>\n",
       "      <th>3</th>\n",
       "      <td>svc_rbf</td>\n",
       "      <td>0.569952</td>\n",
       "      <td>0.040327</td>\n",
       "    </tr>\n",
       "    <tr>\n",
       "      <th>1</th>\n",
       "      <td>logreg</td>\n",
       "      <td>0.561459</td>\n",
       "      <td>0.023861</td>\n",
       "    </tr>\n",
       "    <tr>\n",
       "      <th>2</th>\n",
       "      <td>lsvc</td>\n",
       "      <td>0.560655</td>\n",
       "      <td>0.026989</td>\n",
       "    </tr>\n",
       "    <tr>\n",
       "      <th>8</th>\n",
       "      <td>etc</td>\n",
       "      <td>0.555810</td>\n",
       "      <td>0.035590</td>\n",
       "    </tr>\n",
       "    <tr>\n",
       "      <th>4</th>\n",
       "      <td>svc_poly</td>\n",
       "      <td>0.554053</td>\n",
       "      <td>0.017688</td>\n",
       "    </tr>\n",
       "    <tr>\n",
       "      <th>6</th>\n",
       "      <td>dtree</td>\n",
       "      <td>0.542544</td>\n",
       "      <td>0.027195</td>\n",
       "    </tr>\n",
       "    <tr>\n",
       "      <th>5</th>\n",
       "      <td>svc_sigmoid</td>\n",
       "      <td>0.302219</td>\n",
       "      <td>0.011510</td>\n",
       "    </tr>\n",
       "  </tbody>\n",
       "</table>\n",
       "</div>"
      ],
      "text/plain": [
       "          model      mean       std\n",
       "10         xgbc  0.605289  0.028299\n",
       "0           knn  0.578249  0.040991\n",
       "7           rfc  0.572287  0.023748\n",
       "9           gbc  0.570841  0.021288\n",
       "3       svc_rbf  0.569952  0.040327\n",
       "1        logreg  0.561459  0.023861\n",
       "2          lsvc  0.560655  0.026989\n",
       "8           etc  0.555810  0.035590\n",
       "4      svc_poly  0.554053  0.017688\n",
       "6         dtree  0.542544  0.027195\n",
       "5   svc_sigmoid  0.302219  0.011510"
      ]
     },
     "execution_count": 115,
     "metadata": {},
     "output_type": "execute_result"
    }
   ],
   "source": [
    "accuracy_df.sort_values(by=['mean'], inplace=True,ascending=False)\n",
    "accuracy_df"
   ]
  },
  {
   "cell_type": "code",
   "execution_count": 116,
   "metadata": {},
   "outputs": [],
   "source": [
    "predictions_all = {}\n",
    "for  key, value in classifiers.items():\n",
    "    # Get best estimator\n",
    "    best_model = value.best_estimator_\n",
    "    \n",
    "    # Predict test labels\n",
    "    predictions = best_model.predict(X_test)\n",
    "    \n",
    "    # Save predictions to a list\n",
    "    predictions_all[key] = predictions"
   ]
  },
  {
   "cell_type": "code",
   "execution_count": 117,
   "metadata": {},
   "outputs": [],
   "source": [
    "pred = pd.DataFrame(predictions_all)"
   ]
  },
  {
   "cell_type": "code",
   "execution_count": 118,
   "metadata": {},
   "outputs": [
    {
     "data": {
      "text/plain": [
       "Text(0.5, 1, 'Correlation of the test set label prediction between models')"
      ]
     },
     "execution_count": 118,
     "metadata": {},
     "output_type": "execute_result"
    },
    {
     "data": {
      "image/png": "[encoded data removed]",
      "text/plain": [
       "<Figure size 648x432 with 2 Axes>"
      ]
     },
     "metadata": {
      "needs_background": "light"
     },
     "output_type": "display_data"
    }
   ],
   "source": [
    "fig, ax = plt.subplots(nrows=1, ncols=1, figsize=(9,6))\n",
    "g = sns.heatmap(pred.corr(), annot=True, cmap='coolwarm', ax=ax)\n",
    "g.set_title('Correlation of the test set label prediction between models')"
   ]
  },
  {
   "cell_type": "code",
   "execution_count": 119,
   "metadata": {},
   "outputs": [],
   "source": [
    "def get_redundant_pairs(df):\n",
    "    '''Get diagonal and lower triangular pairs of correlation matrix'''\n",
    "    pairs_to_drop = set()\n",
    "    cols = df.columns\n",
    "    for i in range(0, df.shape[1]):\n",
    "        for j in range(0, i+1):\n",
    "            pairs_to_drop.add((cols[i], cols[j]))\n",
    "    return pairs_to_drop\n",
    "\n",
    "def get_top_abs_correlations(df, n=5):\n",
    "    au_corr = df.corr().abs().unstack()\n",
    "    labels_to_drop = get_redundant_pairs(df)\n",
    "    au_corr = au_corr.drop(labels=labels_to_drop).sort_values(ascending=True)\n",
    "    return au_corr[0:n]"
   ]
  },
  {
   "cell_type": "code",
   "execution_count": 120,
   "metadata": {},
   "outputs": [
    {
     "name": "stdout",
     "output_type": "stream",
     "text": [
      "Top Absolute Correlations\n",
      "svc_rbf      svc_sigmoid    0.004819\n",
      "svc_sigmoid  xgbc           0.018453\n",
      "             etc            0.027370\n",
      "             gbc            0.028350\n",
      "svc_poly     svc_sigmoid    0.033933\n",
      "dtype: float64\n"
     ]
    }
   ],
   "source": [
    "print(\"Top Absolute Correlations\")\n",
    "print(get_top_abs_correlations(pred, 5))"
   ]
  },
  {
   "cell_type": "markdown",
   "metadata": {},
   "source": [
    "## Stacking"
   ]
  },
  {
   "cell_type": "markdown",
   "metadata": {},
   "source": [
    "### voting top 5"
   ]
  },
  {
   "cell_type": "code",
   "execution_count": 132,
   "metadata": {},
   "outputs": [],
   "source": [
    "from sklearn.ensemble import VotingClassifier"
   ]
  },
  {
   "cell_type": "code",
   "execution_count": 134,
   "metadata": {},
   "outputs": [
    {
     "data": {
      "text/plain": [
       "GridSearchCV(cv=5, error_score=nan,\n",
       "             estimator=VotingClassifier(estimators=[('rfc',\n",
       "                                                     RandomForestClassifier(bootstrap=True,\n",
       "                                                                            ccp_alpha=0.0,\n",
       "                                                                            class_weight=None,\n",
       "                                                                            criterion='gini',\n",
       "                                                                            max_depth=8,\n",
       "                                                                            max_features='auto',\n",
       "                                                                            max_leaf_nodes=None,\n",
       "                                                                            max_samples=None,\n",
       "                                                                            min_impurity_decrease=0.0,\n",
       "                                                                            min_impurity_split=None,\n",
       "                                                                            min_samples_leaf=1,\n",
       "                                                                            min_samples_split=2,\n",
       "                                                                            min_weight_fraction_leaf=...\n",
       "                                                                                n_iter_no_change=None,\n",
       "                                                                                presort='deprecated',\n",
       "                                                                                random_state=42,\n",
       "                                                                                subsample=1.0,\n",
       "                                                                                tol=0.0001,\n",
       "                                                                                validation_fraction=0.1,\n",
       "                                                                                verbose=0,\n",
       "                                                                                warm_start=False))],\n",
       "                                        flatten_transform=True, n_jobs=None,\n",
       "                                        voting='hard', weights=None),\n",
       "             iid='deprecated', n_jobs=None,\n",
       "             param_grid={'voting': ['hard', 'soft']}, pre_dispatch='2*n_jobs',\n",
       "             refit=True, return_train_score=True, scoring='f1', verbose=0)"
      ]
     },
     "execution_count": 134,
     "metadata": {},
     "output_type": "execute_result"
    }
   ],
   "source": [
    "vclf1 = VotingClassifier(estimators=\n",
    "                              [('rfc', rfc_grid.best_estimator_), \n",
    "                               ('svc_rbf',grid_svc_rbf.best_estimator_), \n",
    "                               ('knn',grid_knn.best_estimator_),\n",
    "                               ('xgbc', xgbc_grid.best_estimator_),\n",
    "                               ('gbc', gbc_grid.best_estimator_)\n",
    "                              ], )\n",
    "vclf1_param = {\n",
    "              'voting' : ['hard','soft'],\n",
    "             }\n",
    "vclf1_grid = GridSearchCV(vclf1, vclf1_param,cv=5, return_train_score=True,scoring='f1'  )\n",
    "vclf1_grid.fit(X_train,y_train)"
   ]
  },
  {
   "cell_type": "code",
   "execution_count": 135,
   "metadata": {},
   "outputs": [
    {
     "name": "stdout",
     "output_type": "stream",
     "text": [
      "Best Mean Cross Validation Score is 0.5977173988842208\n",
      "Best Mean Cross Validation Score is {'voting': 'hard'}\n",
      "Train score is 0.6698113207547169\n",
      "Test score is 0.5800376647834274\n"
     ]
    }
   ],
   "source": [
    "print(f'Best Mean Cross Validation Score is {vclf1_grid.best_score_}')\n",
    "print(f'Best Mean Cross Validation Score is {vclf1_grid.best_params_}')\n",
    "print(f'Train score is {vclf1_grid.score(X_train,y_train)}')\n",
    "print(f'Test score is {vclf1_grid.score(X_test,y_test)}')"
   ]
  },
  {
   "cell_type": "markdown",
   "metadata": {},
   "source": [
    "### Voting Least Correlated"
   ]
  },
  {
   "cell_type": "code",
   "execution_count": 136,
   "metadata": {},
   "outputs": [
    {
     "data": {
      "text/plain": [
       "GridSearchCV(cv=5, error_score=nan,\n",
       "             estimator=VotingClassifier(estimators=[('svc_rbf',\n",
       "                                                     SVC(C=10, break_ties=False,\n",
       "                                                         cache_size=200,\n",
       "                                                         class_weight=None,\n",
       "                                                         coef0=0.0,\n",
       "                                                         decision_function_shape='ovr',\n",
       "                                                         degree=3, gamma=0.01,\n",
       "                                                         kernel='rbf',\n",
       "                                                         max_iter=-1,\n",
       "                                                         probability=True,\n",
       "                                                         random_state=None,\n",
       "                                                         shrinking=True,\n",
       "                                                         tol=0.001,\n",
       "                                                         verbose=False)),\n",
       "                                                    ('svc_sigmoid',\n",
       "                                                     SVC(C=10, break_ties=False,\n",
       "                                                         cache...\n",
       "                                                                          min_samples_split=2,\n",
       "                                                                          min_weight_fraction_leaf=0.0,\n",
       "                                                                          n_estimators=200,\n",
       "                                                                          n_jobs=None,\n",
       "                                                                          oob_score=False,\n",
       "                                                                          random_state=42,\n",
       "                                                                          verbose=0,\n",
       "                                                                          warm_start=False))],\n",
       "                                        flatten_transform=True, n_jobs=None,\n",
       "                                        voting='hard', weights=None),\n",
       "             iid='deprecated', n_jobs=None,\n",
       "             param_grid={'voting': ['hard', 'soft']}, pre_dispatch='2*n_jobs',\n",
       "             refit=True, return_train_score=True, scoring='f1', verbose=0)"
      ]
     },
     "execution_count": 136,
     "metadata": {},
     "output_type": "execute_result"
    }
   ],
   "source": [
    "vclf3 = VotingClassifier(estimators=\n",
    "                              [('svc_rbf',grid_svc_rbf.best_estimator_), \n",
    "                               ( 'svc_sigmoid',grid_svc_s.best_estimator_), \n",
    "                               ('xgbc',xgbc_grid.best_estimator_),\n",
    "                              ( 'etc', etc_grid.best_estimator_)], )\n",
    "vclf3_param = {\n",
    "              'voting' : ['hard','soft'],\n",
    "             }\n",
    "vclf3_grid = GridSearchCV(vclf3, vclf3_param,cv=5, return_train_score=True,scoring='f1' )\n",
    "vclf3_grid.fit(X_train,y_train)"
   ]
  },
  {
   "cell_type": "code",
   "execution_count": 137,
   "metadata": {
    "scrolled": true
   },
   "outputs": [
    {
     "name": "stdout",
     "output_type": "stream",
     "text": [
      "Best Mean Cross Validation Score is 0.5355638801590255\n",
      "Best Mean Cross Validation Score is {'voting': 'hard'}\n",
      "Train score is 0.6019617965926691\n",
      "Test score is 0.5296610169491525\n"
     ]
    }
   ],
   "source": [
    "print(f'Best Mean Cross Validation Score is {vclf3_grid.best_score_}')\n",
    "print(f'Best Mean Cross Validation Score is {vclf3_grid.best_params_}')\n",
    "print(f'Train score is {vclf3_grid.score(X_train,y_train)}')\n",
    "print(f'Test score is {vclf3_grid.score(X_test,y_test)}')"
   ]
  },
  {
   "cell_type": "markdown",
   "metadata": {},
   "source": [
    "### Stacking Top 5"
   ]
  },
  {
   "cell_type": "code",
   "execution_count": 138,
   "metadata": {},
   "outputs": [],
   "source": [
    "from sklearn.ensemble import StackingClassifier"
   ]
  },
  {
   "cell_type": "code",
   "execution_count": 139,
   "metadata": {},
   "outputs": [
    {
     "data": {
      "text/plain": [
       "GridSearchCV(cv=5, error_score=nan,\n",
       "             estimator=StackingClassifier(cv=None,\n",
       "                                          estimators=[('rfc',\n",
       "                                                       RandomForestClassifier(bootstrap=True,\n",
       "                                                                              ccp_alpha=0.0,\n",
       "                                                                              class_weight=None,\n",
       "                                                                              criterion='gini',\n",
       "                                                                              max_depth=8,\n",
       "                                                                              max_features='auto',\n",
       "                                                                              max_leaf_nodes=None,\n",
       "                                                                              max_samples=None,\n",
       "                                                                              min_impurity_decrease=0.0,\n",
       "                                                                              min_impurity_split=None,\n",
       "                                                                              min_samples_leaf=1,\n",
       "                                                                              min_samples_split=2,\n",
       "                                                                              min_weight_frac...\n",
       "                                                                             n_jobs=None,\n",
       "                                                                             penalty='l2',\n",
       "                                                                             random_state=None,\n",
       "                                                                             solver='lbfgs',\n",
       "                                                                             tol=0.0001,\n",
       "                                                                             verbose=0,\n",
       "                                                                             warm_start=False),\n",
       "                                          n_jobs=None, passthrough=False,\n",
       "                                          stack_method='auto', verbose=0),\n",
       "             iid='deprecated', n_jobs=None,\n",
       "             param_grid={'final_estimator__C': [0.1, 0.2],\n",
       "                         'stack_method': ['auto', 'predict_proba']},\n",
       "             pre_dispatch='2*n_jobs', refit=True, return_train_score=True,\n",
       "             scoring='f1', verbose=0)"
      ]
     },
     "execution_count": 139,
     "metadata": {},
     "output_type": "execute_result"
    }
   ],
   "source": [
    "sclf1 = StackingClassifier(estimators=\n",
    "                              [('rfc', rfc_grid.best_estimator_), \n",
    "                               ('svc_rbf',grid_svc_rbf.best_estimator_), \n",
    "                               ('knn',grid_knn.best_estimator_),\n",
    "                               ('xgbc', xgbc_grid.best_estimator_),\n",
    "                               ('gbc', gbc_grid.best_estimator_)\n",
    "                              ], final_estimator=LogisticRegression())\n",
    "sclf1_param = {\n",
    "              'final_estimator__C' : [0.1,0.2],\n",
    "              'stack_method':['auto', 'predict_proba']\n",
    "             }\n",
    "sclf1_grid = GridSearchCV(sclf1, sclf1_param,cv=5, return_train_score=True, scoring='f1')\n",
    "sclf1_grid.fit(X_train,y_train)"
   ]
  },
  {
   "cell_type": "code",
   "execution_count": 140,
   "metadata": {
    "scrolled": true
   },
   "outputs": [
    {
     "name": "stdout",
     "output_type": "stream",
     "text": [
      "Best Mean Cross Validation Score is 0.583538448877878\n",
      "Best Mean Cross Validation Score is {'final_estimator__C': 0.2, 'stack_method': 'auto'}\n",
      "Train score is 0.6663475347056007\n",
      "Test score is 0.5675675675675677\n"
     ]
    }
   ],
   "source": [
    "print(f'Best Mean Cross Validation Score is {sclf1_grid.best_score_}')\n",
    "print(f'Best Mean Cross Validation Score is {sclf1_grid.best_params_}')\n",
    "print(f'Train score is {sclf1_grid.score(X_train,y_train)}')\n",
    "print(f'Test score is {sclf1_grid.score(X_test,y_test)}')"
   ]
  },
  {
   "cell_type": "markdown",
   "metadata": {},
   "source": [
    "### Stacking Least Correlated"
   ]
  },
  {
   "cell_type": "code",
   "execution_count": 141,
   "metadata": {},
   "outputs": [
    {
     "data": {
      "text/plain": [
       "GridSearchCV(cv=5, error_score=nan,\n",
       "             estimator=StackingClassifier(cv=None,\n",
       "                                          estimators=[('svc_rbf',\n",
       "                                                       SVC(C=10,\n",
       "                                                           break_ties=False,\n",
       "                                                           cache_size=200,\n",
       "                                                           class_weight=None,\n",
       "                                                           coef0=0.0,\n",
       "                                                           decision_function_shape='ovr',\n",
       "                                                           degree=3, gamma=0.01,\n",
       "                                                           kernel='rbf',\n",
       "                                                           max_iter=-1,\n",
       "                                                           probability=True,\n",
       "                                                           random_state=None,\n",
       "                                                           shrinking=True,\n",
       "                                                           tol=0.001,\n",
       "                                                           verbose=False)),\n",
       "                                                      ('svc_sigmoid',\n",
       "                                                       SVC(C=10,\n",
       "                                                           break_ties=F...\n",
       "                                                                             n_jobs=None,\n",
       "                                                                             penalty='l2',\n",
       "                                                                             random_state=None,\n",
       "                                                                             solver='lbfgs',\n",
       "                                                                             tol=0.0001,\n",
       "                                                                             verbose=0,\n",
       "                                                                             warm_start=False),\n",
       "                                          n_jobs=None, passthrough=False,\n",
       "                                          stack_method='auto', verbose=0),\n",
       "             iid='deprecated', n_jobs=None,\n",
       "             param_grid={'final_estimator__C': [0.1, 0.2],\n",
       "                         'stack_method': ['auto', 'predict_proba']},\n",
       "             pre_dispatch='2*n_jobs', refit=True, return_train_score=True,\n",
       "             scoring='f1', verbose=0)"
      ]
     },
     "execution_count": 141,
     "metadata": {},
     "output_type": "execute_result"
    }
   ],
   "source": [
    "sclf2 = StackingClassifier(estimators=\n",
    "                               [('svc_rbf',grid_svc_rbf.best_estimator_), \n",
    "                               ( 'svc_sigmoid',grid_svc_s.best_estimator_), \n",
    "                               ('xgbc',xgbc_grid.best_estimator_),\n",
    "                              ( 'etc', etc_grid.best_estimator_)], \n",
    "                           final_estimator=LogisticRegression())\n",
    "sclf2_param = {\n",
    "              'final_estimator__C' : [0.1,0.2],\n",
    "              'stack_method':['auto', 'predict_proba']\n",
    "             }\n",
    "sclf2_grid = GridSearchCV(sclf2, sclf2_param,cv=5, return_train_score=True,scoring='f1' )\n",
    "sclf2_grid.fit(X_train,y_train)"
   ]
  },
  {
   "cell_type": "code",
   "execution_count": 142,
   "metadata": {},
   "outputs": [
    {
     "name": "stdout",
     "output_type": "stream",
     "text": [
      "Best Mean Cross Validation Score is 0.5926197963271219\n",
      "Best Mean Cross Validation Score is {'final_estimator__C': 0.2, 'stack_method': 'auto'}\n",
      "Train score is 0.6554379210779596\n",
      "Test score is 0.5796545105566219\n"
     ]
    }
   ],
   "source": [
    "print(f'Best Mean Cross Validation Score is {sclf2_grid.best_score_}')\n",
    "print(f'Best Mean Cross Validation Score is {sclf2_grid.best_params_}')\n",
    "print(f'Train score is {sclf2_grid.score(X_train,y_train)}')\n",
    "print(f'Test score is {sclf2_grid.score(X_test,y_test)}')"
   ]
  },
  {
   "cell_type": "markdown",
   "metadata": {},
   "source": [
    "# Cost Sensitive Algorithms"
   ]
  },
  {
   "cell_type": "markdown",
   "metadata": {},
   "source": [
    "## Logistic Regression"
   ]
  },
  {
   "cell_type": "code",
   "execution_count": 121,
   "metadata": {},
   "outputs": [
    {
     "name": "stdout",
     "output_type": "stream",
     "text": [
      "Best parameters: {'class_weight': {0: 1, 1: 1}}\n",
      "Best Mean cross-validation score: 0.55\n"
     ]
    }
   ],
   "source": [
    "logreg = LogisticRegression(solver='lbfgs')\n",
    "param_grid = {\n",
    "    \n",
    "    'class_weight': [{0:100,1:1}, {0:10,1:1}, {0:1,1:1}, {0:1,1:10}, {0:1,1:100}],\n",
    "}\n",
    "\n",
    "#apply grid search\n",
    "grid_logreg= GridSearchCV(logreg, param_grid, cv=5, n_jobs=2, scoring='f1')\n",
    "grid_logreg.fit(X_train, y_train)\n",
    "\n",
    "print(\"Best parameters: {}\".format(grid_logreg.best_params_))\n",
    "print(\"Best Mean cross-validation score: {:.2f}\".format(grid_logreg.best_score_))"
   ]
  },
  {
   "cell_type": "markdown",
   "metadata": {},
   "source": [
    "## Decision Trees"
   ]
  },
  {
   "cell_type": "code",
   "execution_count": 122,
   "metadata": {},
   "outputs": [
    {
     "name": "stdout",
     "output_type": "stream",
     "text": [
      "Best parameters: {'class_weight': {0: 100, 1: 1}}\n",
      "Best Mean cross-validation score: 0.50\n"
     ]
    }
   ],
   "source": [
    "dtree = DecisionTreeClassifier()\n",
    "param_grid = {\n",
    "    \n",
    "    'class_weight': [{0:100,1:1}, {0:10,1:1}, {0:1,1:1}, {0:1,1:10}, {0:1,1:100}],\n",
    "}\n",
    "\n",
    "#apply grid search\n",
    "grid_dtree2= GridSearchCV(dtree, param_grid, cv=5, n_jobs=2, scoring='f1')\n",
    "grid_dtree2.fit(X_train, y_train)\n",
    "\n",
    "print(\"Best parameters: {}\".format(grid_dtree2.best_params_))\n",
    "print(\"Best Mean cross-validation score: {:.2f}\".format(grid_dtree2.best_score_))"
   ]
  },
  {
   "cell_type": "markdown",
   "metadata": {},
   "source": [
    "## Support Vector Machines"
   ]
  },
  {
   "cell_type": "code",
   "execution_count": 123,
   "metadata": {},
   "outputs": [
    {
     "name": "stdout",
     "output_type": "stream",
     "text": [
      "Best parameters: {'class_weight': {0: 1, 1: 10}}\n",
      "Best Mean cross-validation score: 0.49\n"
     ]
    }
   ],
   "source": [
    "svc = SVC()\n",
    "param_grid = {\n",
    "    \n",
    "    'class_weight': [{0:100,1:1}, {0:10,1:1}, {0:1,1:1}, {0:1,1:10}, {0:1,1:100}],\n",
    "}\n",
    "\n",
    "#apply grid search\n",
    "grid_svc2= GridSearchCV(svc, param_grid, cv=5, n_jobs=2, scoring='f1')\n",
    "grid_svc2.fit(X_train, y_train)\n",
    "\n",
    "print(\"Best parameters: {}\".format(grid_svc2.best_params_))\n",
    "print(\"Best Mean cross-validation score: {:.2f}\".format(grid_svc2.best_score_))"
   ]
  },
  {
   "cell_type": "markdown",
   "metadata": {},
   "source": [
    "## Random Forest"
   ]
  },
  {
   "cell_type": "code",
   "execution_count": 124,
   "metadata": {},
   "outputs": [
    {
     "name": "stdout",
     "output_type": "stream",
     "text": [
      "Mean f1: 0.495\n"
     ]
    }
   ],
   "source": [
    "from sklearn.ensemble import RandomForestClassifier\n",
    "from sklearn.model_selection import cross_val_score\n",
    "from sklearn.model_selection import RepeatedStratifiedKFold\n",
    "from numpy import mean\n",
    "# define model\n",
    "model = RandomForestClassifier(n_estimators=10, class_weight='balanced')\n",
    "# define evaluation procedure\n",
    "cv = RepeatedStratifiedKFold(n_splits=10, n_repeats=3, random_state=1)\n",
    "# evaluate model\n",
    "scores = cross_val_score(model,X_train, y_train, scoring='f1', cv=cv, n_jobs=-1)\n",
    "# summarize performance\n",
    "print('Mean f1: %.3f' % mean(scores))"
   ]
  },
  {
   "cell_type": "markdown",
   "metadata": {},
   "source": [
    "## XGBoost"
   ]
  },
  {
   "cell_type": "code",
   "execution_count": 125,
   "metadata": {},
   "outputs": [
    {
     "name": "stdout",
     "output_type": "stream",
     "text": [
      "Best parameters: {'scale_pos_weight': 25}\n",
      "Best Mean cross-validation score: 0.59\n"
     ]
    }
   ],
   "source": [
    "xgboost = XGBClassifier()\n",
    "param_grid = {\n",
    "    \n",
    "    'scale_pos_weight': [1, 10, 25, 50, 75, 99, 100, 1000],\n",
    "}\n",
    "\n",
    "#apply grid search\n",
    "grid_xgboost2= GridSearchCV(xgboost, param_grid, cv=5, n_jobs=2, scoring='f1')\n",
    "grid_xgboost2.fit(X_train, y_train)\n",
    "\n",
    "print(\"Best parameters: {}\".format(grid_xgboost2.best_params_))\n",
    "print(\"Best Mean cross-validation score: {:.2f}\".format(grid_xgboost2.best_score_))"
   ]
  },
  {
   "cell_type": "markdown",
   "metadata": {},
   "source": [
    "## Extra Trees"
   ]
  },
  {
   "cell_type": "code",
   "execution_count": 126,
   "metadata": {},
   "outputs": [
    {
     "name": "stdout",
     "output_type": "stream",
     "text": [
      "Best parameters: {'class_weight': {0: 100, 1: 1}}\n",
      "Best Mean cross-validation score: 0.52\n"
     ]
    }
   ],
   "source": [
    "etc= ExtraTreesClassifier(random_state=42)\n",
    "param_grid = {\n",
    "    \n",
    "    'class_weight': [{0:100,1:1}, {0:10,1:1}, {0:1,1:1}, {0:1,1:10}, {0:1,1:100}],\n",
    "}\n",
    "\n",
    "#apply grid search\n",
    "grid_etc2= GridSearchCV(etc, param_grid, cv=5, n_jobs=2, scoring='f1')\n",
    "grid_etc2.fit(X_train, y_train)\n",
    "\n",
    "print(\"Best parameters: {}\".format(grid_etc2.best_params_))\n",
    "print(\"Best Mean cross-validation score: {:.2f}\".format(grid_etc2.best_score_))"
   ]
  },
  {
   "cell_type": "markdown",
   "metadata": {},
   "source": [
    "## Bagging decision tree with under sampling"
   ]
  },
  {
   "cell_type": "code",
   "execution_count": 127,
   "metadata": {},
   "outputs": [
    {
     "name": "stdout",
     "output_type": "stream",
     "text": [
      "Mean f1: 0.586\n"
     ]
    }
   ],
   "source": [
    "from imblearn.ensemble import BalancedBaggingClassifier\n",
    "\n",
    "# define model\n",
    "model = BalancedBaggingClassifier()\n",
    "# define evaluation procedure\n",
    "cv = RepeatedStratifiedKFold(n_splits=10, n_repeats=3, random_state=1)\n",
    "# evaluate model\n",
    "scores = cross_val_score(model, X_train, y_train, scoring='f1', cv=cv, n_jobs=-1)\n",
    "# summarize performance\n",
    "print('Mean f1: %.3f' % mean(scores))"
   ]
  },
  {
   "cell_type": "markdown",
   "metadata": {},
   "source": [
    "# Data Sampling Algorithms "
   ]
  },
  {
   "cell_type": "markdown",
   "metadata": {},
   "source": [
    "## oversampling"
   ]
  },
  {
   "cell_type": "markdown",
   "metadata": {},
   "source": [
    "### without grid search"
   ]
  },
  {
   "cell_type": "code",
   "execution_count": 128,
   "metadata": {},
   "outputs": [],
   "source": [
    "from imblearn.pipeline import Pipeline\n",
    "from imblearn.over_sampling import RandomOverSampler\n",
    "pipe_rand_over = Pipeline([('over', RandomOverSampler()), ('model', DecisionTreeClassifier())])\n",
    "pipe_rand_smote = Pipeline([('smote', SMOTE()), ('model', DecisionTreeClassifier())])\n",
    "# evaluate pipeline\n",
    "cv = RepeatedStratifiedKFold(n_splits=10, n_repeats=3, random_state=1)"
   ]
  },
  {
   "cell_type": "code",
   "execution_count": 129,
   "metadata": {},
   "outputs": [
    {
     "name": "stdout",
     "output_type": "stream",
     "text": [
      "F-measure: 0.488\n"
     ]
    }
   ],
   "source": [
    "scores = cross_val_score(pipe_rand_over, X_train, y_train, scoring='f1', cv=cv, n_jobs=-1)\n",
    "score = mean(scores)\n",
    "print('F-measure: %.3f' % score)"
   ]
  },
  {
   "cell_type": "code",
   "execution_count": 130,
   "metadata": {
    "scrolled": true
   },
   "outputs": [
    {
     "name": "stdout",
     "output_type": "stream",
     "text": [
      "F-measure: 0.506\n"
     ]
    }
   ],
   "source": [
    "scores = cross_val_score(pipe_rand_smote,X_train, y_train,scoring='f1', cv=cv, n_jobs=-1)\n",
    "score = mean(scores)\n",
    "print('F-measure: %.3f' % score)"
   ]
  },
  {
   "cell_type": "markdown",
   "metadata": {},
   "source": [
    "### with GridSearch"
   ]
  },
  {
   "cell_type": "code",
   "execution_count": 131,
   "metadata": {},
   "outputs": [
    {
     "name": "stdout",
     "output_type": "stream",
     "text": [
      "Best parameters: {'model__max_depth': 4, 'smote__k_neighbors': 1}\n",
      "Best Mean cross-validation score: 0.59\n"
     ]
    }
   ],
   "source": [
    "### GridSearch with oversampling\n",
    "from imblearn.pipeline import Pipeline\n",
    "from imblearn.over_sampling import SMOTE\n",
    "pipe_rand_smote = Pipeline([('smote', SMOTE()), ('model', DecisionTreeClassifier())])\n",
    "param_grid = {\n",
    "    # try different feature engineering parameters\n",
    "    'smote__k_neighbors': [1,2,3,4,5],\n",
    "    'model__max_depth': [2,3,4,5,6],\n",
    "}\n",
    "\n",
    "#apply grid search\n",
    "grid_smote= GridSearchCV(pipe_rand_smote, param_grid, cv=5, n_jobs=2, scoring='f1')\n",
    "grid_smote.fit(X_train, y_train)\n",
    "\n",
    "print(\"Best parameters: {}\".format(grid_smote.best_params_))\n",
    "print(\"Best Mean cross-validation score: {:.2f}\".format(grid_smote.best_score_))"
   ]
  },
  {
   "cell_type": "markdown",
   "metadata": {},
   "source": [
    "## under sampling"
   ]
  },
  {
   "cell_type": "code",
   "execution_count": 143,
   "metadata": {},
   "outputs": [],
   "source": [
    "from imblearn.under_sampling import CondensedNearestNeighbour"
   ]
  },
  {
   "cell_type": "code",
   "execution_count": 144,
   "metadata": {},
   "outputs": [
    {
     "name": "stdout",
     "output_type": "stream",
     "text": [
      "Best parameters: {'model__max_depth': 4}\n",
      "Best Mean cross-validation score: 0.59\n"
     ]
    }
   ],
   "source": [
    "pipe_rand_cnn = Pipeline([('cnn', CondensedNearestNeighbour(sampling_strategy='auto')), ('model', DecisionTreeClassifier())])\n",
    "param_grid = {\n",
    "\n",
    "    'model__max_depth': [2,3,4,5,6],\n",
    "}\n",
    "\n",
    "#apply grid search\n",
    "grid_cnn= GridSearchCV(pipe_rand_cnn, param_grid, cv=5, n_jobs=2, scoring='f1')\n",
    "grid_cnn.fit(X_train, y_train)\n",
    "\n",
    "print(\"Best parameters: {}\".format(grid_cnn.best_params_))\n",
    "print(\"Best Mean cross-validation score: {:.2f}\".format(grid_cnn.best_score_))"
   ]
  }
 ],
 "metadata": {
  "kernelspec": {
   "display_name": "buan6341_2020",
   "language": "python",
   "name": "buan6341_2020"
  },
  "language_info": {
   "codemirror_mode": {
    "name": "ipython",
    "version": 3
   },
   "file_extension": ".py",
   "mimetype": "text/x-python",
   "name": "python",
   "nbconvert_exporter": "python",
   "pygments_lexer": "ipython3",
   "version": "3.7.6"
  },
  "latex_envs": {
   "LaTeX_envs_menu_present": true,
   "autoclose": false,
   "autocomplete": true,
   "bibliofile": "biblio.bib",
   "cite_by": "apalike",
   "current_citInitial": 1,
   "eqLabelWithNumbers": true,
   "eqNumInitial": 1,
   "hotkeys": {
    "equation": "Ctrl-E",
    "itemize": "Ctrl-I"
   },
   "labels_anchors": false,
   "latex_user_defs": false,
   "report_style_numbering": false,
   "user_envs_cfg": false
  },
  "toc": {
   "base_numbering": 1,
   "nav_menu": {},
   "number_sections": true,
   "sideBar": true,
   "skip_h1_title": false,
   "title_cell": "Table of Contents",
   "title_sidebar": "Contents",
   "toc_cell": false,
   "toc_position": {
    "height": "calc(100% - 180px)",
    "left": "10px",
    "top": "150px",
    "width": "251.179px"
   },
   "toc_section_display": true,
   "toc_window_display": true
  }
 },
 "nbformat": 4,
 "nbformat_minor": 2
}
