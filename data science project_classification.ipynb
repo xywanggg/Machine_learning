{
 "cells": [
  {
   "cell_type": "code",
   "execution_count": 1,
   "metadata": {},
   "outputs": [],
   "source": [
    "import json\n",
    "import pandas as pd\n",
    "import numpy as np\n",
    "import matplotlib.pyplot as plt\n",
    "import seaborn as sns"
   ]
  },
  {
   "cell_type": "code",
   "execution_count": null,
   "metadata": {},
   "outputs": [],
   "source": [
    "'''\n",
    "• question\n",
    "# comment\n",
    "'''"
   ]
  },
  {
   "cell_type": "markdown",
   "metadata": {},
   "source": [
    "# Q1 - load data"
   ]
  },
  {
   "cell_type": "markdown",
   "metadata": {},
   "source": [
    "### •\tProgrammatically download and load into your favorite analytical tool the transactions data. This data, which is in line-delimited JSON format"
   ]
  },
  {
   "cell_type": "code",
   "execution_count": 2,
   "metadata": {
    "scrolled": true
   },
   "outputs": [],
   "source": [
    "data=pd.read_json('transactions.txt',lines=True)"
   ]
  },
  {
   "cell_type": "code",
   "execution_count": 3,
   "metadata": {},
   "outputs": [
    {
     "data": {
      "text/html": [
       "<div>\n",
       "<style scoped>\n",
       "    .dataframe tbody tr th:only-of-type {\n",
       "        vertical-align: middle;\n",
       "    }\n",
       "\n",
       "    .dataframe tbody tr th {\n",
       "        vertical-align: top;\n",
       "    }\n",
       "\n",
       "    .dataframe thead th {\n",
       "        text-align: right;\n",
       "    }\n",
       "</style>\n",
       "<table border=\"1\" class=\"dataframe\">\n",
       "  <thead>\n",
       "    <tr style=\"text-align: right;\">\n",
       "      <th></th>\n",
       "      <th>accountNumber</th>\n",
       "      <th>customerId</th>\n",
       "      <th>creditLimit</th>\n",
       "      <th>availableMoney</th>\n",
       "      <th>transactionDateTime</th>\n",
       "      <th>transactionAmount</th>\n",
       "      <th>merchantName</th>\n",
       "      <th>acqCountry</th>\n",
       "      <th>merchantCountryCode</th>\n",
       "      <th>posEntryMode</th>\n",
       "      <th>...</th>\n",
       "      <th>echoBuffer</th>\n",
       "      <th>currentBalance</th>\n",
       "      <th>merchantCity</th>\n",
       "      <th>merchantState</th>\n",
       "      <th>merchantZip</th>\n",
       "      <th>cardPresent</th>\n",
       "      <th>posOnPremises</th>\n",
       "      <th>recurringAuthInd</th>\n",
       "      <th>expirationDateKeyInMatch</th>\n",
       "      <th>isFraud</th>\n",
       "    </tr>\n",
       "  </thead>\n",
       "  <tbody>\n",
       "    <tr>\n",
       "      <th>0</th>\n",
       "      <td>737265056</td>\n",
       "      <td>737265056</td>\n",
       "      <td>5000</td>\n",
       "      <td>5000.0</td>\n",
       "      <td>2016-08-13T14:27:32</td>\n",
       "      <td>98.55</td>\n",
       "      <td>Uber</td>\n",
       "      <td>US</td>\n",
       "      <td>US</td>\n",
       "      <td>02</td>\n",
       "      <td>...</td>\n",
       "      <td></td>\n",
       "      <td>0.0</td>\n",
       "      <td></td>\n",
       "      <td></td>\n",
       "      <td></td>\n",
       "      <td>False</td>\n",
       "      <td></td>\n",
       "      <td></td>\n",
       "      <td>False</td>\n",
       "      <td>False</td>\n",
       "    </tr>\n",
       "    <tr>\n",
       "      <th>1</th>\n",
       "      <td>737265056</td>\n",
       "      <td>737265056</td>\n",
       "      <td>5000</td>\n",
       "      <td>5000.0</td>\n",
       "      <td>2016-10-11T05:05:54</td>\n",
       "      <td>74.51</td>\n",
       "      <td>AMC #191138</td>\n",
       "      <td>US</td>\n",
       "      <td>US</td>\n",
       "      <td>09</td>\n",
       "      <td>...</td>\n",
       "      <td></td>\n",
       "      <td>0.0</td>\n",
       "      <td></td>\n",
       "      <td></td>\n",
       "      <td></td>\n",
       "      <td>True</td>\n",
       "      <td></td>\n",
       "      <td></td>\n",
       "      <td>False</td>\n",
       "      <td>False</td>\n",
       "    </tr>\n",
       "    <tr>\n",
       "      <th>2</th>\n",
       "      <td>737265056</td>\n",
       "      <td>737265056</td>\n",
       "      <td>5000</td>\n",
       "      <td>5000.0</td>\n",
       "      <td>2016-11-08T09:18:39</td>\n",
       "      <td>7.47</td>\n",
       "      <td>Play Store</td>\n",
       "      <td>US</td>\n",
       "      <td>US</td>\n",
       "      <td>09</td>\n",
       "      <td>...</td>\n",
       "      <td></td>\n",
       "      <td>0.0</td>\n",
       "      <td></td>\n",
       "      <td></td>\n",
       "      <td></td>\n",
       "      <td>False</td>\n",
       "      <td></td>\n",
       "      <td></td>\n",
       "      <td>False</td>\n",
       "      <td>False</td>\n",
       "    </tr>\n",
       "    <tr>\n",
       "      <th>3</th>\n",
       "      <td>737265056</td>\n",
       "      <td>737265056</td>\n",
       "      <td>5000</td>\n",
       "      <td>5000.0</td>\n",
       "      <td>2016-12-10T02:14:50</td>\n",
       "      <td>7.47</td>\n",
       "      <td>Play Store</td>\n",
       "      <td>US</td>\n",
       "      <td>US</td>\n",
       "      <td>09</td>\n",
       "      <td>...</td>\n",
       "      <td></td>\n",
       "      <td>0.0</td>\n",
       "      <td></td>\n",
       "      <td></td>\n",
       "      <td></td>\n",
       "      <td>False</td>\n",
       "      <td></td>\n",
       "      <td></td>\n",
       "      <td>False</td>\n",
       "      <td>False</td>\n",
       "    </tr>\n",
       "    <tr>\n",
       "      <th>4</th>\n",
       "      <td>830329091</td>\n",
       "      <td>830329091</td>\n",
       "      <td>5000</td>\n",
       "      <td>5000.0</td>\n",
       "      <td>2016-03-24T21:04:46</td>\n",
       "      <td>71.18</td>\n",
       "      <td>Tim Hortons #947751</td>\n",
       "      <td>US</td>\n",
       "      <td>US</td>\n",
       "      <td>02</td>\n",
       "      <td>...</td>\n",
       "      <td></td>\n",
       "      <td>0.0</td>\n",
       "      <td></td>\n",
       "      <td></td>\n",
       "      <td></td>\n",
       "      <td>True</td>\n",
       "      <td></td>\n",
       "      <td></td>\n",
       "      <td>False</td>\n",
       "      <td>False</td>\n",
       "    </tr>\n",
       "  </tbody>\n",
       "</table>\n",
       "<p>5 rows × 29 columns</p>\n",
       "</div>"
      ],
      "text/plain": [
       "   accountNumber  customerId  creditLimit  availableMoney  \\\n",
       "0      737265056   737265056         5000          5000.0   \n",
       "1      737265056   737265056         5000          5000.0   \n",
       "2      737265056   737265056         5000          5000.0   \n",
       "3      737265056   737265056         5000          5000.0   \n",
       "4      830329091   830329091         5000          5000.0   \n",
       "\n",
       "   transactionDateTime  transactionAmount         merchantName acqCountry  \\\n",
       "0  2016-08-13T14:27:32              98.55                 Uber         US   \n",
       "1  2016-10-11T05:05:54              74.51          AMC #191138         US   \n",
       "2  2016-11-08T09:18:39               7.47           Play Store         US   \n",
       "3  2016-12-10T02:14:50               7.47           Play Store         US   \n",
       "4  2016-03-24T21:04:46              71.18  Tim Hortons #947751         US   \n",
       "\n",
       "  merchantCountryCode posEntryMode  ... echoBuffer currentBalance  \\\n",
       "0                  US           02  ...                       0.0   \n",
       "1                  US           09  ...                       0.0   \n",
       "2                  US           09  ...                       0.0   \n",
       "3                  US           09  ...                       0.0   \n",
       "4                  US           02  ...                       0.0   \n",
       "\n",
       "  merchantCity merchantState merchantZip  cardPresent  posOnPremises  \\\n",
       "0                                               False                  \n",
       "1                                                True                  \n",
       "2                                               False                  \n",
       "3                                               False                  \n",
       "4                                                True                  \n",
       "\n",
       "   recurringAuthInd expirationDateKeyInMatch isFraud  \n",
       "0                                      False   False  \n",
       "1                                      False   False  \n",
       "2                                      False   False  \n",
       "3                                      False   False  \n",
       "4                                      False   False  \n",
       "\n",
       "[5 rows x 29 columns]"
      ]
     },
     "execution_count": 3,
     "metadata": {},
     "output_type": "execute_result"
    }
   ],
   "source": [
    "data.head()"
   ]
  },
  {
   "cell_type": "markdown",
   "metadata": {},
   "source": [
    "### •\tPlease describe the structure of the data. Number of records and fields in each record?"
   ]
  },
  {
   "cell_type": "code",
   "execution_count": 4,
   "metadata": {
    "scrolled": true
   },
   "outputs": [
    {
     "name": "stdout",
     "output_type": "stream",
     "text": [
      "Data has 786363 rows and 29 columns\n"
     ]
    },
    {
     "data": {
      "text/plain": [
       "(786363, 29)"
      ]
     },
     "execution_count": 4,
     "metadata": {},
     "output_type": "execute_result"
    }
   ],
   "source": [
    "#structure of the data\n",
    "print ('Data has {} rows and {} columns'.format(data.shape[0], data.shape[1]))\n",
    "data.shape "
   ]
  },
  {
   "cell_type": "code",
   "execution_count": 5,
   "metadata": {
    "scrolled": true
   },
   "outputs": [
    {
     "data": {
      "text/plain": [
       "Index(['accountNumber', 'customerId', 'creditLimit', 'availableMoney',\n",
       "       'transactionDateTime', 'transactionAmount', 'merchantName',\n",
       "       'acqCountry', 'merchantCountryCode', 'posEntryMode', 'posConditionCode',\n",
       "       'merchantCategoryCode', 'currentExpDate', 'accountOpenDate',\n",
       "       'dateOfLastAddressChange', 'cardCVV', 'enteredCVV', 'cardLast4Digits',\n",
       "       'transactionType', 'echoBuffer', 'currentBalance', 'merchantCity',\n",
       "       'merchantState', 'merchantZip', 'cardPresent', 'posOnPremises',\n",
       "       'recurringAuthInd', 'expirationDateKeyInMatch', 'isFraud'],\n",
       "      dtype='object')"
      ]
     },
     "execution_count": 5,
     "metadata": {},
     "output_type": "execute_result"
    }
   ],
   "source": [
    "data.columns"
   ]
  },
  {
   "cell_type": "code",
   "execution_count": 6,
   "metadata": {
    "scrolled": true
   },
   "outputs": [
    {
     "name": "stdout",
     "output_type": "stream",
     "text": [
      "<class 'pandas.core.frame.DataFrame'>\n",
      "RangeIndex: 786363 entries, 0 to 786362\n",
      "Data columns (total 29 columns):\n",
      " #   Column                    Non-Null Count   Dtype  \n",
      "---  ------                    --------------   -----  \n",
      " 0   accountNumber             786363 non-null  int64  \n",
      " 1   customerId                786363 non-null  int64  \n",
      " 2   creditLimit               786363 non-null  int64  \n",
      " 3   availableMoney            786363 non-null  float64\n",
      " 4   transactionDateTime       786363 non-null  object \n",
      " 5   transactionAmount         786363 non-null  float64\n",
      " 6   merchantName              786363 non-null  object \n",
      " 7   acqCountry                786363 non-null  object \n",
      " 8   merchantCountryCode       786363 non-null  object \n",
      " 9   posEntryMode              786363 non-null  object \n",
      " 10  posConditionCode          786363 non-null  object \n",
      " 11  merchantCategoryCode      786363 non-null  object \n",
      " 12  currentExpDate            786363 non-null  object \n",
      " 13  accountOpenDate           786363 non-null  object \n",
      " 14  dateOfLastAddressChange   786363 non-null  object \n",
      " 15  cardCVV                   786363 non-null  int64  \n",
      " 16  enteredCVV                786363 non-null  int64  \n",
      " 17  cardLast4Digits           786363 non-null  int64  \n",
      " 18  transactionType           786363 non-null  object \n",
      " 19  echoBuffer                786363 non-null  object \n",
      " 20  currentBalance            786363 non-null  float64\n",
      " 21  merchantCity              786363 non-null  object \n",
      " 22  merchantState             786363 non-null  object \n",
      " 23  merchantZip               786363 non-null  object \n",
      " 24  cardPresent               786363 non-null  bool   \n",
      " 25  posOnPremises             786363 non-null  object \n",
      " 26  recurringAuthInd          786363 non-null  object \n",
      " 27  expirationDateKeyInMatch  786363 non-null  bool   \n",
      " 28  isFraud                   786363 non-null  bool   \n",
      "dtypes: bool(3), float64(3), int64(6), object(17)\n",
      "memory usage: 158.2+ MB\n"
     ]
    }
   ],
   "source": [
    "data.info()"
   ]
  },
  {
   "cell_type": "markdown",
   "metadata": {},
   "source": [
    "### •\tPlease provide some additional basic summary statistics for each field. Be sure to include a count of null, minimum, maximum, and unique values where appropriate."
   ]
  },
  {
   "cell_type": "code",
   "execution_count": 7,
   "metadata": {
    "scrolled": true
   },
   "outputs": [
    {
     "data": {
      "text/plain": [
       "accountNumber                    0\n",
       "customerId                       0\n",
       "creditLimit                      0\n",
       "availableMoney                   0\n",
       "transactionDateTime              0\n",
       "transactionAmount                0\n",
       "merchantName                     0\n",
       "acqCountry                    4562\n",
       "merchantCountryCode            724\n",
       "posEntryMode                  4054\n",
       "posConditionCode               409\n",
       "merchantCategoryCode             0\n",
       "currentExpDate                   0\n",
       "accountOpenDate                  0\n",
       "dateOfLastAddressChange          0\n",
       "cardCVV                          0\n",
       "enteredCVV                       0\n",
       "cardLast4Digits                  0\n",
       "transactionType                698\n",
       "echoBuffer                  786363\n",
       "currentBalance                   0\n",
       "merchantCity                786363\n",
       "merchantState               786363\n",
       "merchantZip                 786363\n",
       "cardPresent                      0\n",
       "posOnPremises               786363\n",
       "recurringAuthInd            786363\n",
       "expirationDateKeyInMatch         0\n",
       "isFraud                          0\n",
       "dtype: int64"
      ]
     },
     "execution_count": 7,
     "metadata": {},
     "output_type": "execute_result"
    }
   ],
   "source": [
    "#missing data\n",
    "data2=data.replace('', np.NaN)\n",
    "data2.isnull().sum()"
   ]
  },
  {
   "cell_type": "code",
   "execution_count": 8,
   "metadata": {
    "scrolled": true
   },
   "outputs": [
    {
     "data": {
      "text/html": [
       "<div>\n",
       "<style scoped>\n",
       "    .dataframe tbody tr th:only-of-type {\n",
       "        vertical-align: middle;\n",
       "    }\n",
       "\n",
       "    .dataframe tbody tr th {\n",
       "        vertical-align: top;\n",
       "    }\n",
       "\n",
       "    .dataframe thead th {\n",
       "        text-align: right;\n",
       "    }\n",
       "</style>\n",
       "<table border=\"1\" class=\"dataframe\">\n",
       "  <thead>\n",
       "    <tr style=\"text-align: right;\">\n",
       "      <th></th>\n",
       "      <th>accountNumber</th>\n",
       "      <th>customerId</th>\n",
       "      <th>creditLimit</th>\n",
       "      <th>availableMoney</th>\n",
       "      <th>transactionAmount</th>\n",
       "      <th>cardCVV</th>\n",
       "      <th>enteredCVV</th>\n",
       "      <th>cardLast4Digits</th>\n",
       "      <th>currentBalance</th>\n",
       "    </tr>\n",
       "  </thead>\n",
       "  <tbody>\n",
       "    <tr>\n",
       "      <th>count</th>\n",
       "      <td>7.863630e+05</td>\n",
       "      <td>7.863630e+05</td>\n",
       "      <td>786363.000000</td>\n",
       "      <td>786363.000000</td>\n",
       "      <td>786363.000000</td>\n",
       "      <td>786363.000000</td>\n",
       "      <td>786363.000000</td>\n",
       "      <td>786363.000000</td>\n",
       "      <td>786363.000000</td>\n",
       "    </tr>\n",
       "    <tr>\n",
       "      <th>mean</th>\n",
       "      <td>5.372326e+08</td>\n",
       "      <td>5.372326e+08</td>\n",
       "      <td>10759.464459</td>\n",
       "      <td>6250.725369</td>\n",
       "      <td>136.985791</td>\n",
       "      <td>544.467338</td>\n",
       "      <td>544.183857</td>\n",
       "      <td>4757.417799</td>\n",
       "      <td>4508.739089</td>\n",
       "    </tr>\n",
       "    <tr>\n",
       "      <th>std</th>\n",
       "      <td>2.554211e+08</td>\n",
       "      <td>2.554211e+08</td>\n",
       "      <td>11636.174890</td>\n",
       "      <td>8880.783989</td>\n",
       "      <td>147.725569</td>\n",
       "      <td>261.524220</td>\n",
       "      <td>261.551254</td>\n",
       "      <td>2996.583810</td>\n",
       "      <td>6457.442068</td>\n",
       "    </tr>\n",
       "    <tr>\n",
       "      <th>min</th>\n",
       "      <td>1.000881e+08</td>\n",
       "      <td>1.000881e+08</td>\n",
       "      <td>250.000000</td>\n",
       "      <td>-1005.630000</td>\n",
       "      <td>0.000000</td>\n",
       "      <td>100.000000</td>\n",
       "      <td>0.000000</td>\n",
       "      <td>0.000000</td>\n",
       "      <td>0.000000</td>\n",
       "    </tr>\n",
       "    <tr>\n",
       "      <th>25%</th>\n",
       "      <td>3.301333e+08</td>\n",
       "      <td>3.301333e+08</td>\n",
       "      <td>5000.000000</td>\n",
       "      <td>1077.420000</td>\n",
       "      <td>33.650000</td>\n",
       "      <td>310.000000</td>\n",
       "      <td>310.000000</td>\n",
       "      <td>2178.000000</td>\n",
       "      <td>689.910000</td>\n",
       "    </tr>\n",
       "    <tr>\n",
       "      <th>50%</th>\n",
       "      <td>5.074561e+08</td>\n",
       "      <td>5.074561e+08</td>\n",
       "      <td>7500.000000</td>\n",
       "      <td>3184.860000</td>\n",
       "      <td>87.900000</td>\n",
       "      <td>535.000000</td>\n",
       "      <td>535.000000</td>\n",
       "      <td>4733.000000</td>\n",
       "      <td>2451.760000</td>\n",
       "    </tr>\n",
       "    <tr>\n",
       "      <th>75%</th>\n",
       "      <td>7.676200e+08</td>\n",
       "      <td>7.676200e+08</td>\n",
       "      <td>15000.000000</td>\n",
       "      <td>7500.000000</td>\n",
       "      <td>191.480000</td>\n",
       "      <td>785.000000</td>\n",
       "      <td>785.000000</td>\n",
       "      <td>7338.000000</td>\n",
       "      <td>5291.095000</td>\n",
       "    </tr>\n",
       "    <tr>\n",
       "      <th>max</th>\n",
       "      <td>9.993896e+08</td>\n",
       "      <td>9.993896e+08</td>\n",
       "      <td>50000.000000</td>\n",
       "      <td>50000.000000</td>\n",
       "      <td>2011.540000</td>\n",
       "      <td>998.000000</td>\n",
       "      <td>998.000000</td>\n",
       "      <td>9998.000000</td>\n",
       "      <td>47498.810000</td>\n",
       "    </tr>\n",
       "  </tbody>\n",
       "</table>\n",
       "</div>"
      ],
      "text/plain": [
       "       accountNumber    customerId    creditLimit  availableMoney  \\\n",
       "count   7.863630e+05  7.863630e+05  786363.000000   786363.000000   \n",
       "mean    5.372326e+08  5.372326e+08   10759.464459     6250.725369   \n",
       "std     2.554211e+08  2.554211e+08   11636.174890     8880.783989   \n",
       "min     1.000881e+08  1.000881e+08     250.000000    -1005.630000   \n",
       "25%     3.301333e+08  3.301333e+08    5000.000000     1077.420000   \n",
       "50%     5.074561e+08  5.074561e+08    7500.000000     3184.860000   \n",
       "75%     7.676200e+08  7.676200e+08   15000.000000     7500.000000   \n",
       "max     9.993896e+08  9.993896e+08   50000.000000    50000.000000   \n",
       "\n",
       "       transactionAmount        cardCVV     enteredCVV  cardLast4Digits  \\\n",
       "count      786363.000000  786363.000000  786363.000000    786363.000000   \n",
       "mean          136.985791     544.467338     544.183857      4757.417799   \n",
       "std           147.725569     261.524220     261.551254      2996.583810   \n",
       "min             0.000000     100.000000       0.000000         0.000000   \n",
       "25%            33.650000     310.000000     310.000000      2178.000000   \n",
       "50%            87.900000     535.000000     535.000000      4733.000000   \n",
       "75%           191.480000     785.000000     785.000000      7338.000000   \n",
       "max          2011.540000     998.000000     998.000000      9998.000000   \n",
       "\n",
       "       currentBalance  \n",
       "count   786363.000000  \n",
       "mean      4508.739089  \n",
       "std       6457.442068  \n",
       "min          0.000000  \n",
       "25%        689.910000  \n",
       "50%       2451.760000  \n",
       "75%       5291.095000  \n",
       "max      47498.810000  "
      ]
     },
     "execution_count": 8,
     "metadata": {},
     "output_type": "execute_result"
    }
   ],
   "source": [
    "# min and max\n",
    "data.describe()"
   ]
  },
  {
   "cell_type": "code",
   "execution_count": 9,
   "metadata": {},
   "outputs": [
    {
     "name": "stdout",
     "output_type": "stream",
     "text": [
      "There are 3 bool_value\n",
      "There are 1 discrete variables\n",
      "There are 8 continous variables\n",
      "There are 17 categorical variables\n"
     ]
    }
   ],
   "source": [
    "#unique value\n",
    "bool_value = [var for var in data.columns if data[var].dtype=='bool']\n",
    "discrete = [var for var in data.columns if data[var].dtype!='O' and data[var].dtype!='bool' and data[var].nunique()<15]\n",
    "continous = [var for var in data.columns if data[var].dtype!='O' and var not in discrete and var not in bool_value]\n",
    "categorical = [var for var in data.columns if data[var].dtype=='O']\n",
    "\n",
    "print (f'There are {len(bool_value)} bool_value')\n",
    "print (f'There are {len(discrete)} discrete variables')\n",
    "print (f'There are {len(continous)} continous variables')\n",
    "print (f'There are {len(categorical)} categorical variables')"
   ]
  },
  {
   "cell_type": "code",
   "execution_count": 10,
   "metadata": {
    "scrolled": true
   },
   "outputs": [
    {
     "data": {
      "text/plain": [
       "creditLimit    10\n",
       "dtype: int64"
      ]
     },
     "execution_count": 10,
     "metadata": {},
     "output_type": "execute_result"
    }
   ],
   "source": [
    "data[discrete].nunique()"
   ]
  },
  {
   "cell_type": "code",
   "execution_count": 11,
   "metadata": {
    "scrolled": false
   },
   "outputs": [
    {
     "data": {
      "text/plain": [
       "transactionDateTime        776637\n",
       "merchantName                 2490\n",
       "acqCountry                      5\n",
       "merchantCountryCode             5\n",
       "posEntryMode                    6\n",
       "posConditionCode                4\n",
       "merchantCategoryCode           19\n",
       "currentExpDate                165\n",
       "accountOpenDate              1820\n",
       "dateOfLastAddressChange      2184\n",
       "transactionType                 4\n",
       "echoBuffer                      1\n",
       "merchantCity                    1\n",
       "merchantState                   1\n",
       "merchantZip                     1\n",
       "posOnPremises                   1\n",
       "recurringAuthInd                1\n",
       "dtype: int64"
      ]
     },
     "execution_count": 11,
     "metadata": {},
     "output_type": "execute_result"
    }
   ],
   "source": [
    "data[categorical].nunique()"
   ]
  },
  {
   "cell_type": "code",
   "execution_count": 12,
   "metadata": {},
   "outputs": [
    {
     "name": "stdout",
     "output_type": "stream",
     "text": [
      "creditLimit [ 5000  2500 50000 15000 10000   250   500  1000  7500 20000]\n",
      "acqCountry ['US' '' 'CAN' 'MEX' 'PR']\n",
      "merchantCountryCode ['US' 'CAN' '' 'PR' 'MEX']\n",
      "posEntryMode ['02' '09' '05' '80' '90' '']\n",
      "posConditionCode ['01' '08' '99' '']\n",
      "transactionType ['PURCHASE' 'ADDRESS_VERIFICATION' 'REVERSAL' '']\n",
      "merchantCategoryCode ['rideshare' 'entertainment' 'mobileapps' 'fastfood' 'food_delivery'\n",
      " 'auto' 'online_retail' 'gym' 'health' 'personal care' 'food' 'fuel'\n",
      " 'online_subscriptions' 'online_gifts' 'hotels' 'airline' 'furniture'\n",
      " 'subscriptions' 'cable/phone']\n"
     ]
    }
   ],
   "source": [
    "col=['creditLimit','acqCountry','merchantCountryCode','posEntryMode','posConditionCode','transactionType','merchantCategoryCode']\n",
    "for i in col:\n",
    "    print(i,data[i].unique())"
   ]
  },
  {
   "cell_type": "markdown",
   "metadata": {},
   "source": [
    "# Q2 - Plot"
   ]
  },
  {
   "cell_type": "markdown",
   "metadata": {},
   "source": [
    "### •\tPlot a histogram of the processed amounts of each transaction, the transactionAmount column."
   ]
  },
  {
   "cell_type": "code",
   "execution_count": 13,
   "metadata": {
    "scrolled": true
   },
   "outputs": [
    {
     "data": {
      "text/plain": [
       "Text(0.5, 1.0, 'transactionAmount')"
      ]
     },
     "execution_count": 13,
     "metadata": {},
     "output_type": "execute_result"
    },
    {
     "data": {
      "image/png": "[encoded data removed]",
      "text/plain": [
       "<Figure size 720x576 with 1 Axes>"
      ]
     },
     "metadata": {
      "needs_background": "light"
     },
     "output_type": "display_data"
    }
   ],
   "source": [
    "fig,ax=plt.subplots(figsize=(10,8))\n",
    "n, bins, patches = plt.hist(x=data['transactionAmount'], bins=40, color='b', alpha=0.7, rwidth=0.85)\n",
    "plt.grid(axis='y', alpha=0.75)\n",
    "plt.xlabel('Value')\n",
    "plt.ylabel('Frequency')\n",
    "plt.title('transactionAmount')"
   ]
  },
  {
   "cell_type": "markdown",
   "metadata": {},
   "source": [
    "### •\tReport any structure you find and any hypotheses you have about that structure.\n",
    "### # too many outliers in transactionAmount"
   ]
  },
  {
   "cell_type": "code",
   "execution_count": 14,
   "metadata": {
    "scrolled": true
   },
   "outputs": [
    {
     "name": "stderr",
     "output_type": "stream",
     "text": [
      "C:\\Users\\xxw180021\\Anaconda3\\lib\\site-packages\\seaborn\\_decorators.py:36: FutureWarning: Pass the following variable as a keyword arg: x. From version 0.12, the only valid positional argument will be `data`, and passing other arguments without an explicit keyword will result in an error or misinterpretation.\n",
      "  warnings.warn(\n"
     ]
    },
    {
     "data": {
      "text/plain": [
       "<AxesSubplot:xlabel='transactionAmount'>"
      ]
     },
     "execution_count": 14,
     "metadata": {},
     "output_type": "execute_result"
    },
    {
     "data": {
      "image/png": "[encoded data removed]",
      "text/plain": [
       "<Figure size 1440x144 with 1 Axes>"
      ]
     },
     "metadata": {
      "needs_background": "light"
     },
     "output_type": "display_data"
    }
   ],
   "source": [
    "plt.figure(figsize=[20,2])\n",
    "sns.boxplot(data['transactionAmount'])"
   ]
  },
  {
   "cell_type": "markdown",
   "metadata": {},
   "source": [
    "### # As we can see, 99% of the data is smaller than 675.63. Distribution of transactionAmount is highly Right-skewed\n",
    "### # Hypothesis: most of the processed amounts of each transaction are within 675.63"
   ]
  },
  {
   "cell_type": "code",
   "execution_count": 15,
   "metadata": {
    "scrolled": true
   },
   "outputs": [
    {
     "data": {
      "text/plain": [
       "0.01       0.0000\n",
       "0.05       3.4400\n",
       "0.10       8.9000\n",
       "0.50      87.9000\n",
       "0.90     329.4200\n",
       "0.95     433.3500\n",
       "0.99     675.6304\n",
       "1.00    2011.5400\n",
       "Name: transactionAmount, dtype: float64"
      ]
     },
     "execution_count": 15,
     "metadata": {},
     "output_type": "execute_result"
    }
   ],
   "source": [
    "data['transactionAmount'].quantile([.01, .05, .1, .5, .9, .95, .99, 1])"
   ]
  },
  {
   "cell_type": "markdown",
   "metadata": {},
   "source": [
    "### # Box plot of transactionAmount with & without outliers (5%)"
   ]
  },
  {
   "cell_type": "code",
   "execution_count": 16,
   "metadata": {},
   "outputs": [
    {
     "data": {
      "image/png": "[encoded data removed]",
      "text/plain": [
       "<Figure size 432x288 with 2 Axes>"
      ]
     },
     "metadata": {
      "needs_background": "light"
     },
     "output_type": "display_data"
    }
   ],
   "source": [
    "fig = plt.figure()\n",
    "ax1 = fig.add_subplot(121)\n",
    "ax2 = fig.add_subplot(122)\n",
    "\n",
    "pd_series = data['transactionAmount']\n",
    "pd_series_adjusted = pd_series[pd_series.between(pd_series.quantile(.05), pd_series.quantile(.95))] \n",
    "\n",
    "ax1.boxplot(pd_series)\n",
    "ax1.set_title('Original')\n",
    "\n",
    "ax2.boxplot(pd_series_adjusted)\n",
    "ax2.set_title('Adjusted')\n",
    "\n",
    "plt.show()"
   ]
  },
  {
   "cell_type": "markdown",
   "metadata": {},
   "source": [
    "### # Plot histogram of transactionAmount with & without outliers (5%)"
   ]
  },
  {
   "cell_type": "code",
   "execution_count": 17,
   "metadata": {
    "scrolled": true
   },
   "outputs": [
    {
     "data": {
      "text/plain": [
       "(array([84043., 66321., 61931., 57376., 47603., 40507., 35701., 32349.,\n",
       "        29666., 26562., 24176., 21926., 19999., 18158., 16393., 14991.,\n",
       "        13410., 12404., 11312., 10272.,  9324.,  8326.,  7471.,  6984.,\n",
       "         6510.,  5743.,  5199.,  4790.,  4335.,  3966.]),\n",
       " array([  3.44      ,  17.77033333,  32.10066667,  46.431     ,\n",
       "         60.76133333,  75.09166667,  89.422     , 103.75233333,\n",
       "        118.08266667, 132.413     , 146.74333333, 161.07366667,\n",
       "        175.404     , 189.73433333, 204.06466667, 218.395     ,\n",
       "        232.72533333, 247.05566667, 261.386     , 275.71633333,\n",
       "        290.04666667, 304.377     , 318.70733333, 333.03766667,\n",
       "        347.368     , 361.69833333, 376.02866667, 390.359     ,\n",
       "        404.68933333, 419.01966667, 433.35      ]),\n",
       " <BarContainer object of 30 artists>)"
      ]
     },
     "execution_count": 17,
     "metadata": {},
     "output_type": "execute_result"
    },
    {
     "data": {
      "image/png": "[encoded data removed]",
      "text/plain": [
       "<Figure size 432x288 with 2 Axes>"
      ]
     },
     "metadata": {
      "needs_background": "light"
     },
     "output_type": "display_data"
    }
   ],
   "source": [
    "fig, axs = plt.subplots(2)\n",
    "\n",
    "axs[0].hist(pd_series, bins=30, color='b',alpha=0.7, rwidth=0.85)\n",
    "\n",
    "axs[1].hist(pd_series_adjusted, bins=30,color='r',alpha=0.7, rwidth=0.85)"
   ]
  },
  {
   "cell_type": "markdown",
   "metadata": {},
   "source": [
    "# Q3 - Data Wrangling - Duplicate Transactions"
   ]
  },
  {
   "cell_type": "markdown",
   "metadata": {},
   "source": [
    "### •\tCan you programmatically identify reversed and multi-swipe transactions?"
   ]
  },
  {
   "cell_type": "code",
   "execution_count": 18,
   "metadata": {
    "scrolled": true
   },
   "outputs": [
    {
     "data": {
      "text/plain": [
       "array(['PURCHASE', 'ADDRESS_VERIFICATION', 'REVERSAL', ''], dtype=object)"
      ]
     },
     "execution_count": 18,
     "metadata": {},
     "output_type": "execute_result"
    }
   ],
   "source": [
    "data['transactionType'].unique()"
   ]
  },
  {
   "cell_type": "markdown",
   "metadata": {},
   "source": [
    "### # reversed transactions"
   ]
  },
  {
   "cell_type": "code",
   "execution_count": 19,
   "metadata": {
    "scrolled": true
   },
   "outputs": [
    {
     "data": {
      "text/html": [
       "<div>\n",
       "<style scoped>\n",
       "    .dataframe tbody tr th:only-of-type {\n",
       "        vertical-align: middle;\n",
       "    }\n",
       "\n",
       "    .dataframe tbody tr th {\n",
       "        vertical-align: top;\n",
       "    }\n",
       "\n",
       "    .dataframe thead th {\n",
       "        text-align: right;\n",
       "    }\n",
       "</style>\n",
       "<table border=\"1\" class=\"dataframe\">\n",
       "  <thead>\n",
       "    <tr style=\"text-align: right;\">\n",
       "      <th></th>\n",
       "      <th>accountNumber</th>\n",
       "      <th>customerId</th>\n",
       "      <th>creditLimit</th>\n",
       "      <th>availableMoney</th>\n",
       "      <th>transactionDateTime</th>\n",
       "      <th>transactionAmount</th>\n",
       "      <th>merchantName</th>\n",
       "      <th>acqCountry</th>\n",
       "      <th>merchantCountryCode</th>\n",
       "      <th>posEntryMode</th>\n",
       "      <th>...</th>\n",
       "      <th>echoBuffer</th>\n",
       "      <th>currentBalance</th>\n",
       "      <th>merchantCity</th>\n",
       "      <th>merchantState</th>\n",
       "      <th>merchantZip</th>\n",
       "      <th>cardPresent</th>\n",
       "      <th>posOnPremises</th>\n",
       "      <th>recurringAuthInd</th>\n",
       "      <th>expirationDateKeyInMatch</th>\n",
       "      <th>isFraud</th>\n",
       "    </tr>\n",
       "  </thead>\n",
       "  <tbody>\n",
       "    <tr>\n",
       "      <th>39</th>\n",
       "      <td>574788567</td>\n",
       "      <td>574788567</td>\n",
       "      <td>2500</td>\n",
       "      <td>2200.98</td>\n",
       "      <td>2016-05-24T01:38:03</td>\n",
       "      <td>215.13</td>\n",
       "      <td>Convenient Tire</td>\n",
       "      <td>US</td>\n",
       "      <td>US</td>\n",
       "      <td>09</td>\n",
       "      <td>...</td>\n",
       "      <td></td>\n",
       "      <td>299.02</td>\n",
       "      <td></td>\n",
       "      <td></td>\n",
       "      <td></td>\n",
       "      <td>True</td>\n",
       "      <td></td>\n",
       "      <td></td>\n",
       "      <td>False</td>\n",
       "      <td>False</td>\n",
       "    </tr>\n",
       "    <tr>\n",
       "      <th>73</th>\n",
       "      <td>574788567</td>\n",
       "      <td>574788567</td>\n",
       "      <td>2500</td>\n",
       "      <td>2432.72</td>\n",
       "      <td>2016-10-07T10:23:57</td>\n",
       "      <td>3.87</td>\n",
       "      <td>Eazy Repair</td>\n",
       "      <td>US</td>\n",
       "      <td>US</td>\n",
       "      <td>05</td>\n",
       "      <td>...</td>\n",
       "      <td></td>\n",
       "      <td>67.28</td>\n",
       "      <td></td>\n",
       "      <td></td>\n",
       "      <td></td>\n",
       "      <td>True</td>\n",
       "      <td></td>\n",
       "      <td></td>\n",
       "      <td>False</td>\n",
       "      <td>False</td>\n",
       "    </tr>\n",
       "    <tr>\n",
       "      <th>101</th>\n",
       "      <td>924729945</td>\n",
       "      <td>924729945</td>\n",
       "      <td>50000</td>\n",
       "      <td>49831.43</td>\n",
       "      <td>2016-10-19T14:01:45</td>\n",
       "      <td>168.57</td>\n",
       "      <td>discount.com</td>\n",
       "      <td>US</td>\n",
       "      <td>US</td>\n",
       "      <td>05</td>\n",
       "      <td>...</td>\n",
       "      <td></td>\n",
       "      <td>168.57</td>\n",
       "      <td></td>\n",
       "      <td></td>\n",
       "      <td></td>\n",
       "      <td>False</td>\n",
       "      <td></td>\n",
       "      <td></td>\n",
       "      <td>False</td>\n",
       "      <td>False</td>\n",
       "    </tr>\n",
       "    <tr>\n",
       "      <th>133</th>\n",
       "      <td>984504651</td>\n",
       "      <td>984504651</td>\n",
       "      <td>50000</td>\n",
       "      <td>46367.41</td>\n",
       "      <td>2016-01-16T09:53:15</td>\n",
       "      <td>450.74</td>\n",
       "      <td>Planet Fitness #849960</td>\n",
       "      <td>US</td>\n",
       "      <td>US</td>\n",
       "      <td>05</td>\n",
       "      <td>...</td>\n",
       "      <td></td>\n",
       "      <td>3632.59</td>\n",
       "      <td></td>\n",
       "      <td></td>\n",
       "      <td></td>\n",
       "      <td>False</td>\n",
       "      <td></td>\n",
       "      <td></td>\n",
       "      <td>False</td>\n",
       "      <td>False</td>\n",
       "    </tr>\n",
       "    <tr>\n",
       "      <th>156</th>\n",
       "      <td>984504651</td>\n",
       "      <td>984504651</td>\n",
       "      <td>50000</td>\n",
       "      <td>41909.30</td>\n",
       "      <td>2016-01-25T20:39:15</td>\n",
       "      <td>81.73</td>\n",
       "      <td>AMC #724446</td>\n",
       "      <td>US</td>\n",
       "      <td>US</td>\n",
       "      <td>09</td>\n",
       "      <td>...</td>\n",
       "      <td></td>\n",
       "      <td>8090.70</td>\n",
       "      <td></td>\n",
       "      <td></td>\n",
       "      <td></td>\n",
       "      <td>True</td>\n",
       "      <td></td>\n",
       "      <td></td>\n",
       "      <td>False</td>\n",
       "      <td>False</td>\n",
       "    </tr>\n",
       "    <tr>\n",
       "      <th>...</th>\n",
       "      <td>...</td>\n",
       "      <td>...</td>\n",
       "      <td>...</td>\n",
       "      <td>...</td>\n",
       "      <td>...</td>\n",
       "      <td>...</td>\n",
       "      <td>...</td>\n",
       "      <td>...</td>\n",
       "      <td>...</td>\n",
       "      <td>...</td>\n",
       "      <td>...</td>\n",
       "      <td>...</td>\n",
       "      <td>...</td>\n",
       "      <td>...</td>\n",
       "      <td>...</td>\n",
       "      <td>...</td>\n",
       "      <td>...</td>\n",
       "      <td>...</td>\n",
       "      <td>...</td>\n",
       "      <td>...</td>\n",
       "      <td>...</td>\n",
       "    </tr>\n",
       "    <tr>\n",
       "      <th>786106</th>\n",
       "      <td>899818521</td>\n",
       "      <td>899818521</td>\n",
       "      <td>2500</td>\n",
       "      <td>968.33</td>\n",
       "      <td>2016-09-29T02:04:32</td>\n",
       "      <td>10.05</td>\n",
       "      <td>cheapfast.com</td>\n",
       "      <td>US</td>\n",
       "      <td>US</td>\n",
       "      <td>02</td>\n",
       "      <td>...</td>\n",
       "      <td></td>\n",
       "      <td>1531.67</td>\n",
       "      <td></td>\n",
       "      <td></td>\n",
       "      <td></td>\n",
       "      <td>False</td>\n",
       "      <td></td>\n",
       "      <td></td>\n",
       "      <td>False</td>\n",
       "      <td>False</td>\n",
       "    </tr>\n",
       "    <tr>\n",
       "      <th>786120</th>\n",
       "      <td>638498773</td>\n",
       "      <td>638498773</td>\n",
       "      <td>10000</td>\n",
       "      <td>9798.21</td>\n",
       "      <td>2016-01-01T19:48:03</td>\n",
       "      <td>201.79</td>\n",
       "      <td>KFC #928167</td>\n",
       "      <td>US</td>\n",
       "      <td>US</td>\n",
       "      <td>05</td>\n",
       "      <td>...</td>\n",
       "      <td></td>\n",
       "      <td>201.79</td>\n",
       "      <td></td>\n",
       "      <td></td>\n",
       "      <td></td>\n",
       "      <td>True</td>\n",
       "      <td></td>\n",
       "      <td></td>\n",
       "      <td>False</td>\n",
       "      <td>False</td>\n",
       "    </tr>\n",
       "    <tr>\n",
       "      <th>786219</th>\n",
       "      <td>638498773</td>\n",
       "      <td>638498773</td>\n",
       "      <td>10000</td>\n",
       "      <td>5331.33</td>\n",
       "      <td>2016-11-03T04:23:26</td>\n",
       "      <td>86.14</td>\n",
       "      <td>Dunkin' Donuts #396342</td>\n",
       "      <td>US</td>\n",
       "      <td>US</td>\n",
       "      <td>05</td>\n",
       "      <td>...</td>\n",
       "      <td></td>\n",
       "      <td>4668.67</td>\n",
       "      <td></td>\n",
       "      <td></td>\n",
       "      <td></td>\n",
       "      <td>True</td>\n",
       "      <td></td>\n",
       "      <td></td>\n",
       "      <td>False</td>\n",
       "      <td>False</td>\n",
       "    </tr>\n",
       "    <tr>\n",
       "      <th>786225</th>\n",
       "      <td>638498773</td>\n",
       "      <td>638498773</td>\n",
       "      <td>10000</td>\n",
       "      <td>4393.10</td>\n",
       "      <td>2016-11-06T22:54:25</td>\n",
       "      <td>49.39</td>\n",
       "      <td>Shake Shack #118502</td>\n",
       "      <td>US</td>\n",
       "      <td>US</td>\n",
       "      <td>05</td>\n",
       "      <td>...</td>\n",
       "      <td></td>\n",
       "      <td>5606.90</td>\n",
       "      <td></td>\n",
       "      <td></td>\n",
       "      <td></td>\n",
       "      <td>True</td>\n",
       "      <td></td>\n",
       "      <td></td>\n",
       "      <td>False</td>\n",
       "      <td>False</td>\n",
       "    </tr>\n",
       "    <tr>\n",
       "      <th>786301</th>\n",
       "      <td>732852505</td>\n",
       "      <td>732852505</td>\n",
       "      <td>50000</td>\n",
       "      <td>49860.23</td>\n",
       "      <td>2016-06-22T19:07:55</td>\n",
       "      <td>22.55</td>\n",
       "      <td>Uber</td>\n",
       "      <td>US</td>\n",
       "      <td>US</td>\n",
       "      <td>90</td>\n",
       "      <td>...</td>\n",
       "      <td></td>\n",
       "      <td>139.77</td>\n",
       "      <td></td>\n",
       "      <td></td>\n",
       "      <td></td>\n",
       "      <td>False</td>\n",
       "      <td></td>\n",
       "      <td></td>\n",
       "      <td>False</td>\n",
       "      <td>False</td>\n",
       "    </tr>\n",
       "  </tbody>\n",
       "</table>\n",
       "<p>20303 rows × 29 columns</p>\n",
       "</div>"
      ],
      "text/plain": [
       "        accountNumber  customerId  creditLimit  availableMoney  \\\n",
       "39          574788567   574788567         2500         2200.98   \n",
       "73          574788567   574788567         2500         2432.72   \n",
       "101         924729945   924729945        50000        49831.43   \n",
       "133         984504651   984504651        50000        46367.41   \n",
       "156         984504651   984504651        50000        41909.30   \n",
       "...               ...         ...          ...             ...   \n",
       "786106      899818521   899818521         2500          968.33   \n",
       "786120      638498773   638498773        10000         9798.21   \n",
       "786219      638498773   638498773        10000         5331.33   \n",
       "786225      638498773   638498773        10000         4393.10   \n",
       "786301      732852505   732852505        50000        49860.23   \n",
       "\n",
       "        transactionDateTime  transactionAmount            merchantName  \\\n",
       "39      2016-05-24T01:38:03             215.13         Convenient Tire   \n",
       "73      2016-10-07T10:23:57               3.87             Eazy Repair   \n",
       "101     2016-10-19T14:01:45             168.57            discount.com   \n",
       "133     2016-01-16T09:53:15             450.74  Planet Fitness #849960   \n",
       "156     2016-01-25T20:39:15              81.73             AMC #724446   \n",
       "...                     ...                ...                     ...   \n",
       "786106  2016-09-29T02:04:32              10.05           cheapfast.com   \n",
       "786120  2016-01-01T19:48:03             201.79             KFC #928167   \n",
       "786219  2016-11-03T04:23:26              86.14  Dunkin' Donuts #396342   \n",
       "786225  2016-11-06T22:54:25              49.39     Shake Shack #118502   \n",
       "786301  2016-06-22T19:07:55              22.55                    Uber   \n",
       "\n",
       "       acqCountry merchantCountryCode posEntryMode  ... echoBuffer  \\\n",
       "39             US                  US           09  ...              \n",
       "73             US                  US           05  ...              \n",
       "101            US                  US           05  ...              \n",
       "133            US                  US           05  ...              \n",
       "156            US                  US           09  ...              \n",
       "...           ...                 ...          ...  ...        ...   \n",
       "786106         US                  US           02  ...              \n",
       "786120         US                  US           05  ...              \n",
       "786219         US                  US           05  ...              \n",
       "786225         US                  US           05  ...              \n",
       "786301         US                  US           90  ...              \n",
       "\n",
       "       currentBalance merchantCity merchantState merchantZip  cardPresent  \\\n",
       "39             299.02                                                True   \n",
       "73              67.28                                                True   \n",
       "101            168.57                                               False   \n",
       "133           3632.59                                               False   \n",
       "156           8090.70                                                True   \n",
       "...               ...          ...           ...         ...          ...   \n",
       "786106        1531.67                                               False   \n",
       "786120         201.79                                                True   \n",
       "786219        4668.67                                                True   \n",
       "786225        5606.90                                                True   \n",
       "786301         139.77                                               False   \n",
       "\n",
       "        posOnPremises  recurringAuthInd expirationDateKeyInMatch isFraud  \n",
       "39                                                         False   False  \n",
       "73                                                         False   False  \n",
       "101                                                        False   False  \n",
       "133                                                        False   False  \n",
       "156                                                        False   False  \n",
       "...               ...               ...                      ...     ...  \n",
       "786106                                                     False   False  \n",
       "786120                                                     False   False  \n",
       "786219                                                     False   False  \n",
       "786225                                                     False   False  \n",
       "786301                                                     False   False  \n",
       "\n",
       "[20303 rows x 29 columns]"
      ]
     },
     "execution_count": 19,
     "metadata": {},
     "output_type": "execute_result"
    }
   ],
   "source": [
    "tran_reverse=data[data['transactionType']=='REVERSAL']\n",
    "tran_reverse"
   ]
  },
  {
   "cell_type": "markdown",
   "metadata": {},
   "source": [
    "### # multi-swipe transactions"
   ]
  },
  {
   "cell_type": "code",
   "execution_count": 20,
   "metadata": {},
   "outputs": [],
   "source": [
    "data['transactionDate']=data['transactionDateTime'].str.split('T', expand=True)[0]\n",
    "data['transactionTime']=data['transactionDateTime'].str.split('T', expand=True)[1]\n",
    "data['transactionTime_hour']=data['transactionTime'].str.split(':',expand=True)[0]\n",
    "data['transactionTime_min']=data['transactionTime'].str.split(':',expand=True)[1]\n",
    "data['transactionTime_second']=data['transactionTime'].str.split(':',expand=True)[2]"
   ]
  },
  {
   "cell_type": "code",
   "execution_count": 21,
   "metadata": {
    "scrolled": true
   },
   "outputs": [
    {
     "data": {
      "text/html": [
       "<div>\n",
       "<style scoped>\n",
       "    .dataframe tbody tr th:only-of-type {\n",
       "        vertical-align: middle;\n",
       "    }\n",
       "\n",
       "    .dataframe tbody tr th {\n",
       "        vertical-align: top;\n",
       "    }\n",
       "\n",
       "    .dataframe thead th {\n",
       "        text-align: right;\n",
       "    }\n",
       "</style>\n",
       "<table border=\"1\" class=\"dataframe\">\n",
       "  <thead>\n",
       "    <tr style=\"text-align: right;\">\n",
       "      <th></th>\n",
       "      <th>customerId</th>\n",
       "      <th>accountNumber</th>\n",
       "      <th>transactionDate</th>\n",
       "      <th>merchantName</th>\n",
       "      <th>transactionTime_hour</th>\n",
       "      <th>transactionTime_min</th>\n",
       "      <th>transactionAmount</th>\n",
       "      <th>count</th>\n",
       "    </tr>\n",
       "  </thead>\n",
       "  <tbody>\n",
       "    <tr>\n",
       "      <th>55</th>\n",
       "      <td>100088067</td>\n",
       "      <td>100088067</td>\n",
       "      <td>2016-10-16</td>\n",
       "      <td>Fresh Flowers</td>\n",
       "      <td>18</td>\n",
       "      <td>01</td>\n",
       "      <td>411.35</td>\n",
       "      <td>2</td>\n",
       "    </tr>\n",
       "    <tr>\n",
       "      <th>231</th>\n",
       "      <td>100737756</td>\n",
       "      <td>100737756</td>\n",
       "      <td>2016-01-18</td>\n",
       "      <td>Franks Deli</td>\n",
       "      <td>01</td>\n",
       "      <td>55</td>\n",
       "      <td>693.50</td>\n",
       "      <td>2</td>\n",
       "    </tr>\n",
       "    <tr>\n",
       "      <th>446</th>\n",
       "      <td>101132326</td>\n",
       "      <td>101132326</td>\n",
       "      <td>2016-08-24</td>\n",
       "      <td>Regal Cinemas #05791</td>\n",
       "      <td>02</td>\n",
       "      <td>09</td>\n",
       "      <td>188.86</td>\n",
       "      <td>2</td>\n",
       "    </tr>\n",
       "    <tr>\n",
       "      <th>2108</th>\n",
       "      <td>102755773</td>\n",
       "      <td>102755773</td>\n",
       "      <td>2016-10-22</td>\n",
       "      <td>McDonalds #892016</td>\n",
       "      <td>15</td>\n",
       "      <td>51</td>\n",
       "      <td>38.59</td>\n",
       "      <td>2</td>\n",
       "    </tr>\n",
       "    <tr>\n",
       "      <th>2121</th>\n",
       "      <td>102755773</td>\n",
       "      <td>102755773</td>\n",
       "      <td>2016-10-31</td>\n",
       "      <td>staples.com</td>\n",
       "      <td>15</td>\n",
       "      <td>09</td>\n",
       "      <td>98.58</td>\n",
       "      <td>2</td>\n",
       "    </tr>\n",
       "    <tr>\n",
       "      <th>...</th>\n",
       "      <td>...</td>\n",
       "      <td>...</td>\n",
       "      <td>...</td>\n",
       "      <td>...</td>\n",
       "      <td>...</td>\n",
       "      <td>...</td>\n",
       "      <td>...</td>\n",
       "      <td>...</td>\n",
       "    </tr>\n",
       "    <tr>\n",
       "      <th>783030</th>\n",
       "      <td>998801944</td>\n",
       "      <td>998801944</td>\n",
       "      <td>2016-10-12</td>\n",
       "      <td>Subway #671015</td>\n",
       "      <td>04</td>\n",
       "      <td>11</td>\n",
       "      <td>551.11</td>\n",
       "      <td>2</td>\n",
       "    </tr>\n",
       "    <tr>\n",
       "      <th>783322</th>\n",
       "      <td>999086814</td>\n",
       "      <td>999086814</td>\n",
       "      <td>2016-05-07</td>\n",
       "      <td>Lyft</td>\n",
       "      <td>17</td>\n",
       "      <td>56</td>\n",
       "      <td>49.44</td>\n",
       "      <td>2</td>\n",
       "    </tr>\n",
       "    <tr>\n",
       "      <th>783598</th>\n",
       "      <td>999086814</td>\n",
       "      <td>999086814</td>\n",
       "      <td>2016-10-09</td>\n",
       "      <td>Lyft</td>\n",
       "      <td>21</td>\n",
       "      <td>49</td>\n",
       "      <td>92.17</td>\n",
       "      <td>2</td>\n",
       "    </tr>\n",
       "    <tr>\n",
       "      <th>783862</th>\n",
       "      <td>999257059</td>\n",
       "      <td>999257059</td>\n",
       "      <td>2016-08-09</td>\n",
       "      <td>Washington Times</td>\n",
       "      <td>11</td>\n",
       "      <td>25</td>\n",
       "      <td>557.11</td>\n",
       "      <td>2</td>\n",
       "    </tr>\n",
       "    <tr>\n",
       "      <th>784049</th>\n",
       "      <td>999283629</td>\n",
       "      <td>999283629</td>\n",
       "      <td>2016-04-09</td>\n",
       "      <td>Delta Airlines</td>\n",
       "      <td>12</td>\n",
       "      <td>56</td>\n",
       "      <td>247.40</td>\n",
       "      <td>2</td>\n",
       "    </tr>\n",
       "  </tbody>\n",
       "</table>\n",
       "<p>2195 rows × 8 columns</p>\n",
       "</div>"
      ],
      "text/plain": [
       "        customerId  accountNumber transactionDate          merchantName  \\\n",
       "55       100088067      100088067      2016-10-16         Fresh Flowers   \n",
       "231      100737756      100737756      2016-01-18           Franks Deli   \n",
       "446      101132326      101132326      2016-08-24  Regal Cinemas #05791   \n",
       "2108     102755773      102755773      2016-10-22     McDonalds #892016   \n",
       "2121     102755773      102755773      2016-10-31           staples.com   \n",
       "...            ...            ...             ...                   ...   \n",
       "783030   998801944      998801944      2016-10-12        Subway #671015   \n",
       "783322   999086814      999086814      2016-05-07                  Lyft   \n",
       "783598   999086814      999086814      2016-10-09                  Lyft   \n",
       "783862   999257059      999257059      2016-08-09      Washington Times   \n",
       "784049   999283629      999283629      2016-04-09        Delta Airlines   \n",
       "\n",
       "       transactionTime_hour transactionTime_min  transactionAmount  count  \n",
       "55                       18                  01             411.35      2  \n",
       "231                      01                  55             693.50      2  \n",
       "446                      02                  09             188.86      2  \n",
       "2108                     15                  51              38.59      2  \n",
       "2121                     15                  09              98.58      2  \n",
       "...                     ...                 ...                ...    ...  \n",
       "783030                   04                  11             551.11      2  \n",
       "783322                   17                  56              49.44      2  \n",
       "783598                   21                  49              92.17      2  \n",
       "783862                   11                  25             557.11      2  \n",
       "784049                   12                  56             247.40      2  \n",
       "\n",
       "[2195 rows x 8 columns]"
      ]
     },
     "execution_count": 21,
     "metadata": {},
     "output_type": "execute_result"
    }
   ],
   "source": [
    "data['count']=1\n",
    "data4=data.groupby(['customerId','accountNumber','transactionDate','merchantName','transactionTime_hour','transactionTime_min','transactionAmount'])['count'].sum().reset_index()\n",
    "multi_swipe=data4[data4['count']>1]\n",
    "multi_swipe"
   ]
  },
  {
   "cell_type": "markdown",
   "metadata": {},
   "source": [
    "### •\tWhat total number of transactions and total dollar amount do you estimate for the reversed transactions? For the multi-swipe transactions? (please consider the first transaction to be \"normal\" and exclude it from the number of transaction and dollar amount counts)"
   ]
  },
  {
   "cell_type": "markdown",
   "metadata": {},
   "source": [
    "### # reversed transactions: total number of transactions is 20303, total dollar amount is 2821792.5"
   ]
  },
  {
   "cell_type": "code",
   "execution_count": 22,
   "metadata": {},
   "outputs": [
    {
     "data": {
      "text/plain": [
       "20303"
      ]
     },
     "execution_count": 22,
     "metadata": {},
     "output_type": "execute_result"
    }
   ],
   "source": [
    "len(tran_reverse)"
   ]
  },
  {
   "cell_type": "code",
   "execution_count": 23,
   "metadata": {},
   "outputs": [
    {
     "data": {
      "text/plain": [
       "2821792.5"
      ]
     },
     "execution_count": 23,
     "metadata": {},
     "output_type": "execute_result"
    }
   ],
   "source": [
    "tran_reverse['transactionAmount'].sum()"
   ]
  },
  {
   "cell_type": "markdown",
   "metadata": {},
   "source": [
    "### # multi-swipe transactions: total number of transactions is 2195, total dollar amount is 324844.44"
   ]
  },
  {
   "cell_type": "markdown",
   "metadata": {},
   "source": [
    "### # for the multi-swipe transactions, my code can only find the multi-swipe transcation if they are in the same minute. I noticed there are some multi-swipe transactions distributed within two or three minutes. So the correct total number of multi-swipe transactions should be higher."
   ]
  },
  {
   "cell_type": "code",
   "execution_count": 24,
   "metadata": {},
   "outputs": [
    {
     "data": {
      "text/plain": [
       "2195"
      ]
     },
     "execution_count": 24,
     "metadata": {},
     "output_type": "execute_result"
    }
   ],
   "source": [
    "len(multi_swipe)"
   ]
  },
  {
   "cell_type": "code",
   "execution_count": 25,
   "metadata": {},
   "outputs": [
    {
     "data": {
      "text/plain": [
       "array([2, 3], dtype=int64)"
      ]
     },
     "execution_count": 25,
     "metadata": {},
     "output_type": "execute_result"
    }
   ],
   "source": [
    "multi_swipe['count'].unique()"
   ]
  },
  {
   "cell_type": "code",
   "execution_count": 26,
   "metadata": {},
   "outputs": [
    {
     "data": {
      "text/plain": [
       "324844.44"
      ]
     },
     "execution_count": 26,
     "metadata": {},
     "output_type": "execute_result"
    }
   ],
   "source": [
    "swipe_2=multi_swipe['transactionAmount'].where(multi_swipe['count']==2).sum()\n",
    "swipe_3=multi_swipe['transactionAmount'].where(multi_swipe['count']==3).sum()\n",
    "swipe_2+swipe_3*2"
   ]
  },
  {
   "cell_type": "markdown",
   "metadata": {},
   "source": [
    "### •\tDid you find anything interesting about either kind of transaction?"
   ]
  },
  {
   "cell_type": "markdown",
   "metadata": {},
   "source": [
    "### # reversed transactions: some of the reversed transations are followed by purchase transactions of the same amount, but some of them are not; Online retail and fastfood have highest reversed transactions than other merchantCategory\n",
    "### # multi-swipe transactions: most of them swipe twice; Uber and Lyft have the highest multi-swipe transactions. Online retail is the highest multi-swipe transaction merchantCategory"
   ]
  },
  {
   "cell_type": "markdown",
   "metadata": {},
   "source": [
    "# Q4 - Model"
   ]
  },
  {
   "cell_type": "markdown",
   "metadata": {},
   "source": [
    "### •\tEach of the transactions in the dataset has a field called isFraud. Please build a predictive model to determine whether a given transaction will be fraudulent or not. Use as much of the data as you like (or all of it)."
   ]
  },
  {
   "cell_type": "markdown",
   "metadata": {},
   "source": [
    "### # machine learning model (XGBoost+RandomUnderSampler)"
   ]
  },
  {
   "cell_type": "code",
   "execution_count": 27,
   "metadata": {},
   "outputs": [
    {
     "data": {
      "text/plain": [
       "0    773946\n",
       "1     12417\n",
       "Name: isFraud2, dtype: int64"
      ]
     },
     "execution_count": 27,
     "metadata": {},
     "output_type": "execute_result"
    }
   ],
   "source": [
    "#this is an imblanced dataset\n",
    "data2['isFraud2']=np.where(data['isFraud']==True,1,0) \n",
    "data2['isFraud2'].value_counts() "
   ]
  },
  {
   "cell_type": "code",
   "execution_count": 28,
   "metadata": {
    "scrolled": true
   },
   "outputs": [],
   "source": [
    "#drop column which don't have data\n",
    "data2.drop(['echoBuffer','merchantCity','merchantState','merchantZip','posOnPremises',\n",
    "           'recurringAuthInd'],axis=1,inplace=True)"
   ]
  },
  {
   "cell_type": "code",
   "execution_count": 29,
   "metadata": {},
   "outputs": [],
   "source": [
    "data2.drop(['transactionDateTime','currentExpDate','accountOpenDate','accountNumber','enteredCVV','dateOfLastAddressChange'],axis=1,inplace=True)"
   ]
  },
  {
   "cell_type": "code",
   "execution_count": 30,
   "metadata": {},
   "outputs": [],
   "source": [
    "#distribution\n",
    "def diagnostic_plots(df, variable):\n",
    "    # function takes a dataframe (df) and\n",
    "    # the variable of interest as arguments\n",
    "    plt.figure(figsize=(16, 4))\n",
    "\n",
    "    # histogram\n",
    "    plt.subplot(1, 2, 1)\n",
    "    sns.distplot(df[variable], bins=30)\n",
    "    plt.title('Histogram')\n",
    "\n",
    "    # boxplot\n",
    "    plt.subplot(1, 2, 2)\n",
    "    sns.boxplot(y=df[variable])\n",
    "    plt.title('Boxplot')\n",
    "\n",
    "    plt.show()"
   ]
  },
  {
   "cell_type": "code",
   "execution_count": 31,
   "metadata": {
    "scrolled": true
   },
   "outputs": [
    {
     "name": "stdout",
     "output_type": "stream",
     "text": [
      "There are 7 categorical variables\n",
      "There are 7 continuous variables\n"
     ]
    }
   ],
   "source": [
    "categorical = [var for var in data2.columns if data2[var].dtype=='O']\n",
    "continuous = [var for var in data2.columns if data2[var].dtype=='int64'or data2[var].dtype=='float64']\n",
    "print(f'There are {len(categorical)} categorical variables')\n",
    "print(f'There are {len(continuous)} continuous variables')"
   ]
  },
  {
   "cell_type": "code",
   "execution_count": 32,
   "metadata": {
    "scrolled": true
   },
   "outputs": [
    {
     "name": "stderr",
     "output_type": "stream",
     "text": [
      "C:\\Users\\xxw180021\\Anaconda3\\lib\\site-packages\\seaborn\\distributions.py:2551: FutureWarning: `distplot` is a deprecated function and will be removed in a future version. Please adapt your code to use either `displot` (a figure-level function with similar flexibility) or `histplot` (an axes-level function for histograms).\n",
      "  warnings.warn(msg, FutureWarning)\n"
     ]
    },
    {
     "data": {
      "image/png": "[encoded data removed]",
      "text/plain": [
       "<Figure size 1152x288 with 2 Axes>"
      ]
     },
     "metadata": {
      "needs_background": "light"
     },
     "output_type": "display_data"
    },
    {
     "name": "stderr",
     "output_type": "stream",
     "text": [
      "C:\\Users\\xxw180021\\Anaconda3\\lib\\site-packages\\seaborn\\distributions.py:2551: FutureWarning: `distplot` is a deprecated function and will be removed in a future version. Please adapt your code to use either `displot` (a figure-level function with similar flexibility) or `histplot` (an axes-level function for histograms).\n",
      "  warnings.warn(msg, FutureWarning)\n"
     ]
    },
    {
     "data": {
      "image/png": "[encoded data removed]",
      "text/plain": [
       "<Figure size 1152x288 with 2 Axes>"
      ]
     },
     "metadata": {
      "needs_background": "light"
     },
     "output_type": "display_data"
    },
    {
     "name": "stderr",
     "output_type": "stream",
     "text": [
      "C:\\Users\\xxw180021\\Anaconda3\\lib\\site-packages\\seaborn\\distributions.py:2551: FutureWarning: `distplot` is a deprecated function and will be removed in a future version. Please adapt your code to use either `displot` (a figure-level function with similar flexibility) or `histplot` (an axes-level function for histograms).\n",
      "  warnings.warn(msg, FutureWarning)\n"
     ]
    },
    {
     "data": {
      "image/png": "[encoded data removed]",
      "text/plain": [
       "<Figure size 1152x288 with 2 Axes>"
      ]
     },
     "metadata": {
      "needs_background": "light"
     },
     "output_type": "display_data"
    },
    {
     "name": "stderr",
     "output_type": "stream",
     "text": [
      "C:\\Users\\xxw180021\\Anaconda3\\lib\\site-packages\\seaborn\\distributions.py:2551: FutureWarning: `distplot` is a deprecated function and will be removed in a future version. Please adapt your code to use either `displot` (a figure-level function with similar flexibility) or `histplot` (an axes-level function for histograms).\n",
      "  warnings.warn(msg, FutureWarning)\n"
     ]
    },
    {
     "data": {
      "image/png": "[encoded data removed]",
      "text/plain": [
       "<Figure size 1152x288 with 2 Axes>"
      ]
     },
     "metadata": {
      "needs_background": "light"
     },
     "output_type": "display_data"
    },
    {
     "name": "stderr",
     "output_type": "stream",
     "text": [
      "C:\\Users\\xxw180021\\Anaconda3\\lib\\site-packages\\seaborn\\distributions.py:2551: FutureWarning: `distplot` is a deprecated function and will be removed in a future version. Please adapt your code to use either `displot` (a figure-level function with similar flexibility) or `histplot` (an axes-level function for histograms).\n",
      "  warnings.warn(msg, FutureWarning)\n"
     ]
    },
    {
     "data": {
      "image/png": "[encoded data removed]",
      "text/plain": [
       "<Figure size 1152x288 with 2 Axes>"
      ]
     },
     "metadata": {
      "needs_background": "light"
     },
     "output_type": "display_data"
    },
    {
     "name": "stderr",
     "output_type": "stream",
     "text": [
      "C:\\Users\\xxw180021\\Anaconda3\\lib\\site-packages\\seaborn\\distributions.py:2551: FutureWarning: `distplot` is a deprecated function and will be removed in a future version. Please adapt your code to use either `displot` (a figure-level function with similar flexibility) or `histplot` (an axes-level function for histograms).\n",
      "  warnings.warn(msg, FutureWarning)\n"
     ]
    },
    {
     "data": {
      "image/png": "[encoded data removed]",
      "text/plain": [
       "<Figure size 1152x288 with 2 Axes>"
      ]
     },
     "metadata": {
      "needs_background": "light"
     },
     "output_type": "display_data"
    },
    {
     "name": "stderr",
     "output_type": "stream",
     "text": [
      "C:\\Users\\xxw180021\\Anaconda3\\lib\\site-packages\\seaborn\\distributions.py:2551: FutureWarning: `distplot` is a deprecated function and will be removed in a future version. Please adapt your code to use either `displot` (a figure-level function with similar flexibility) or `histplot` (an axes-level function for histograms).\n",
      "  warnings.warn(msg, FutureWarning)\n"
     ]
    },
    {
     "data": {
      "image/png": "[encoded data removed]",
      "text/plain": [
       "<Figure size 1152x288 with 2 Axes>"
      ]
     },
     "metadata": {
      "needs_background": "light"
     },
     "output_type": "display_data"
    }
   ],
   "source": [
    "for var in continuous:\n",
    "    diagnostic_plots(data, var)"
   ]
  },
  {
   "cell_type": "code",
   "execution_count": 44,
   "metadata": {},
   "outputs": [],
   "source": [
    "from sklearn.model_selection import train_test_split\n",
    "from sklearn.pipeline import Pipeline\n",
    "from feature_engine import categorical_encoders as ce\n",
    "from feature_engine import missing_data_imputers as mdi\n",
    "from sklearn.preprocessing import MinMaxScaler\n",
    "from sklearn.model_selection import GridSearchCV\n",
    "import sklearn.metrics as metrics\n",
    "from imblearn.pipeline import Pipeline as Pipeline_imb\n",
    "from imblearn.under_sampling import RandomUnderSampler\n",
    "from xgboost import XGBClassifier\n",
    "from sklearn.linear_model import LogisticRegression\n",
    "%matplotlib inline\n",
    "from sklearn.metrics import roc_curve\n",
    "from sklearn.metrics import accuracy_score\n",
    "from sklearn.metrics import roc_auc_score\n",
    "import numpy as np\n",
    "import matplotlib.pyplot as plt"
   ]
  },
  {
   "cell_type": "code",
   "execution_count": 51,
   "metadata": {},
   "outputs": [
    {
     "data": {
      "text/plain": [
       "((629090, 16), (157273, 16))"
      ]
     },
     "execution_count": 51,
     "metadata": {},
     "output_type": "execute_result"
    }
   ],
   "source": [
    "#split dataset into two part: train and test\n",
    "X_train, X_test, y_train, y_test = train_test_split(data2.drop(['isFraud','isFraud2'], axis=1),\n",
    "                                                   data2['isFraud2'],\n",
    "                                                   test_size=0.2,\n",
    "                                                   random_state=0)\n",
    "X_train.shape, X_test.shape"
   ]
  },
  {
   "cell_type": "code",
   "execution_count": 52,
   "metadata": {},
   "outputs": [],
   "source": [
    "data_pipeline = Pipeline([\n",
    "    \n",
    "    #missing data imputation\n",
    "    ('imputer_cat_freq', \n",
    "     mdi.FrequentCategoryImputer(variables=['acqCountry','merchantCountryCode','posEntryMode','posConditionCode'])),\n",
    "    \n",
    "    #categorial encoding\n",
    "    ('categorical', ce.OneHotCategoricalEncoder(variables =['acqCountry','merchantCountryCode','posEntryMode',\n",
    "                                                            'posConditionCode','merchantCategoryCode','transactionType'])),\n",
    "    ('categorical2', ce.CountFrequencyCategoricalEncoder(variables='merchantName')),\n",
    "    \n",
    "    # feature Scaling\n",
    "    ('scale', MinMaxScaler()) \n",
    "\n",
    "])"
   ]
  },
  {
   "cell_type": "code",
   "execution_count": 53,
   "metadata": {
    "scrolled": true
   },
   "outputs": [
    {
     "data": {
      "text/plain": [
       "Pipeline(steps=[('imputer_cat_freq',\n",
       "                 FrequentCategoryImputer(variables=['acqCountry',\n",
       "                                                    'merchantCountryCode',\n",
       "                                                    'posEntryMode',\n",
       "                                                    'posConditionCode'])),\n",
       "                ('categorical',\n",
       "                 OneHotCategoricalEncoder(variables=['acqCountry',\n",
       "                                                     'merchantCountryCode',\n",
       "                                                     'posEntryMode',\n",
       "                                                     'posConditionCode',\n",
       "                                                     'merchantCategoryCode',\n",
       "                                                     'transactionType'])),\n",
       "                ('categorical2',\n",
       "                 CountFrequencyCategoricalEncoder(variables=['merchantName'])),\n",
       "                ('scale', MinMaxScaler())])"
      ]
     },
     "execution_count": 53,
     "metadata": {},
     "output_type": "execute_result"
    }
   ],
   "source": [
    "data_pipeline.fit(X_train,y_train)"
   ]
  },
  {
   "cell_type": "code",
   "execution_count": 54,
   "metadata": {
    "scrolled": true
   },
   "outputs": [],
   "source": [
    "X_train=data_pipeline.transform(X_train)\n",
    "X_test=data_pipeline.transform(X_test)"
   ]
  },
  {
   "cell_type": "markdown",
   "metadata": {},
   "source": [
    "### xgboost + under sampling"
   ]
  },
  {
   "cell_type": "code",
   "execution_count": 55,
   "metadata": {
    "scrolled": true
   },
   "outputs": [
    {
     "name": "stderr",
     "output_type": "stream",
     "text": [
      "C:\\Users\\xxw180021\\Anaconda3\\lib\\site-packages\\xgboost\\sklearn.py:888: UserWarning: The use of label encoder in XGBClassifier is deprecated and will be removed in a future release. To remove this warning, do the following: 1) Pass option use_label_encoder=False when constructing XGBClassifier object; and 2) Encode your labels (y) as integers starting with 0, i.e. 0, 1, 2, ..., [num_class - 1].\n",
      "  warnings.warn(label_encoder_deprecation_msg, UserWarning)\n"
     ]
    },
    {
     "name": "stdout",
     "output_type": "stream",
     "text": [
      "[18:50:04] WARNING: C:/Users/Administrator/workspace/xgboost-win64_release_1.3.0/src/learner.cc:1061: Starting in XGBoost 1.3.0, the default evaluation metric used with the objective 'binary:logistic' was changed from 'error' to 'logloss'. Explicitly set eval_metric if you'd like to restore the old behavior.\n",
      "Best parameters: {'xgb__learning_rate': 0.4}\n",
      "Best Mean cross-validation score: 0.82169\n"
     ]
    }
   ],
   "source": [
    "pipe_roc_xgb = Pipeline_imb([('under',RandomUnderSampler(sampling_strategy=0.5)),\n",
    "                             ('xgb',XGBClassifier(random_state=42,\n",
    "                                                                            objective ='binary:logistic',\n",
    "                                                                            max_depth = 5,\n",
    "                                                                            booster='dart'\n",
    "                                                                             ))])\n",
    "param_xgb = {'xgb__learning_rate' : [0.1,0.2,0.3,0.4,0.5,0.6,0.7],\n",
    "             }\n",
    "\n",
    "ogrid_xgb= GridSearchCV(pipe_roc_xgb,param_xgb, cv=5, n_jobs=2,scoring = 'roc_auc')\n",
    "ogrid_xgb.fit(X_train, y_train)\n",
    "\n",
    "print(\"Best parameters: {}\".format(ogrid_xgb.best_params_))\n",
    "print(\"Best Mean cross-validation score: {:.5f}\".format(ogrid_xgb.best_score_))"
   ]
  },
  {
   "cell_type": "markdown",
   "metadata": {},
   "source": [
    "### •\tProvide an estimate of performance using an appropriate sample and show your work."
   ]
  },
  {
   "cell_type": "code",
   "execution_count": 56,
   "metadata": {},
   "outputs": [
    {
     "name": "stdout",
     "output_type": "stream",
     "text": [
      "Train score is 0.8769689180559348\n",
      "test score is 0.8268938267191913\n",
      "===========================\n",
      "test_ROC AUC proba_score: 0.8268938267191913\n",
      "test_ROC AUC score: 0.7216900171619173\n",
      "test_Accuracy 0.8727690067589479\n",
      "===========================\n",
      "Confusion matrix:\n",
      "[[135567  19274]\n",
      " [  1077   1355]]\n"
     ]
    }
   ],
   "source": [
    "# let's get the predictions\n",
    "print(f'Train score is {ogrid_xgb.score(X_train,y_train)}')\n",
    "print(f'test score is {ogrid_xgb.score(X_test,y_test)}')\n",
    "print('===========================')\n",
    "print('test_ROC AUC proba_score:',roc_auc_score(y_test==1,ogrid_xgb.predict_proba(X_test)[:,1]))\n",
    "print('test_ROC AUC score:', roc_auc_score(y_test, X_test_preds))\n",
    "print('test_Accuracy', accuracy_score(y_test, X_test_preds))\n",
    "print('===========================')\n",
    "X_test_preds = ogrid_xgb.predict(X_test)\n",
    "confusion = metrics.confusion_matrix(y_test, X_test_preds)\n",
    "print(f\"Confusion matrix:\\n{confusion}\")"
   ]
  },
  {
   "cell_type": "code",
   "execution_count": 57,
   "metadata": {
    "scrolled": true
   },
   "outputs": [
    {
     "data": {
      "image/png": "[encoded data removed]",
      "text/plain": [
       "<Figure size 432x288 with 1 Axes>"
      ]
     },
     "metadata": {
      "needs_background": "light"
     },
     "output_type": "display_data"
    }
   ],
   "source": [
    "# roc_acu curve\n",
    "ns_probs = [0 for _ in range(len(y_test))]\n",
    "ns_auc = roc_auc_score(y_test, ns_probs)\n",
    "ns_fpr, ns_tpr, _ = roc_curve(y_test, ns_probs)\n",
    "\n",
    "fpr, recall, threshold = roc_curve(y_train, ogrid_xgb.predict_proba(X_train)[:,1])\n",
    "plt.subplots()\n",
    "plt.plot(fpr, recall)\n",
    "\n",
    "zero_index = np.argmin(np.abs(threshold-0.5))\n",
    "plt.plot(fpr[zero_index], recall[zero_index], c = 'red', label = 'Default threshold', \n",
    "         fillstyle = 'none', markersize = 10, marker = 'o')\n",
    "\n",
    "\n",
    "fpr2, recall2, threshold2 = roc_curve(y_test, ogrid_xgb.predict_proba(X_test)[:,1])\n",
    "plt.plot(fpr2, recall2)\n",
    "\n",
    "plt.plot(ns_fpr, ns_tpr, linestyle='--', label='No Skill')\n",
    "\n",
    "\n",
    "plt.grid()"
   ]
  },
  {
   "cell_type": "markdown",
   "metadata": {},
   "source": [
    "### •\tPlease explain your methodology (modeling algorithm/method used and why, what features/data you found useful, what questions you have, and what you would do next with more time)"
   ]
  },
  {
   "cell_type": "markdown",
   "metadata": {},
   "source": [
    "### # For the model: I have built a pipeline to combined Xgboost and RandomUnderSampler since there is an imbalanced dataset.\n",
    "### # Feature of transactionAmount is useful.\n",
    "### # I have tried to extract some information from date and time and put into the model, but the result didn't improve. So I didn't put the date and time information into the model. But I think the date and time may helpful. If I have more time, I will try to extract more features from date and time and spend more time to do feature selection.\n",
    "### # I will spend more time on data pre-processing, parameter tuning in XGBosot , try to change the threshold for ROC Curve and try more resampling and ensemble techniques to compare the results and figure out the best one.\n",
    "### # I will spend more time on business analytics, assumptions and have statistical & visualization to test the ideas and figure out more business insights."
   ]
  },
  {
   "cell_type": "code",
   "execution_count": 58,
   "metadata": {
    "scrolled": true
   },
   "outputs": [
    {
     "data": {
      "text/plain": [
       "<AxesSubplot:>"
      ]
     },
     "execution_count": 58,
     "metadata": {},
     "output_type": "execute_result"
    },
    {
     "data": {
      "image/png": "[encoded data removed]",
      "text/plain": [
       "<Figure size 576x360 with 2 Axes>"
      ]
     },
     "metadata": {
      "needs_background": "light"
     },
     "output_type": "display_data"
    }
   ],
   "source": [
    "#correlation\n",
    "f, ax = plt.subplots(figsize=(8, 5))\n",
    "corr = data2.corr()\n",
    "sns.heatmap(corr, mask=np.zeros_like(corr, dtype=np.bool),  square=True, ax=ax)"
   ]
  },
  {
   "cell_type": "code",
   "execution_count": 59,
   "metadata": {
    "scrolled": true
   },
   "outputs": [
    {
     "name": "stdout",
     "output_type": "stream",
     "text": [
      "Feature: 0, Score: 0.09416\n",
      "Feature: 1, Score: 0.01324\n",
      "Feature: 2, Score: 0.17362\n",
      "Feature: 3, Score: 0.21779\n",
      "Feature: 4, Score: 0.12262\n",
      "Feature: 5, Score: 0.06778\n",
      "Feature: 6, Score: 0.07440\n",
      "Feature: 7, Score: 0.16503\n",
      "Feature: 8, Score: 0.00421\n",
      "Feature: 9, Score: 0.00015\n",
      "Feature: 10, Score: 0.00044\n",
      "Feature: 11, Score: 0.00063\n",
      "Feature: 12, Score: 0.00043\n",
      "Feature: 13, Score: 0.00041\n",
      "Feature: 14, Score: 0.00069\n",
      "Feature: 15, Score: 0.00066\n",
      "Feature: 16, Score: 0.00059\n",
      "Feature: 17, Score: 0.00015\n",
      "Feature: 18, Score: 0.00602\n",
      "Feature: 19, Score: 0.00626\n",
      "Feature: 20, Score: 0.00689\n",
      "Feature: 21, Score: 0.00367\n",
      "Feature: 22, Score: 0.00324\n",
      "Feature: 23, Score: 0.00714\n",
      "Feature: 24, Score: 0.00698\n",
      "Feature: 25, Score: 0.00176\n",
      "Feature: 26, Score: 0.00091\n",
      "Feature: 27, Score: 0.00196\n",
      "Feature: 28, Score: 0.00399\n",
      "Feature: 29, Score: 0.00035\n",
      "Feature: 30, Score: 0.00009\n",
      "Feature: 31, Score: 0.00035\n",
      "Feature: 32, Score: 0.00000\n",
      "Feature: 33, Score: 0.00118\n",
      "Feature: 34, Score: 0.00079\n",
      "Feature: 35, Score: 0.00049\n",
      "Feature: 36, Score: 0.00312\n",
      "Feature: 37, Score: 0.00004\n",
      "Feature: 38, Score: 0.00000\n",
      "Feature: 39, Score: 0.00109\n",
      "Feature: 40, Score: 0.00027\n",
      "Feature: 41, Score: 0.00004\n",
      "Feature: 42, Score: 0.00018\n",
      "Feature: 43, Score: 0.00000\n",
      "Feature: 44, Score: 0.00000\n",
      "Feature: 45, Score: 0.00270\n",
      "Feature: 46, Score: 0.00326\n",
      "Feature: 47, Score: 0.00021\n",
      "Feature: 48, Score: 0.00000\n"
     ]
    },
    {
     "data": {
      "image/png": "[encoded data removed]",
      "text/plain": [
       "<Figure size 432x288 with 1 Axes>"
      ]
     },
     "metadata": {
      "needs_background": "light"
     },
     "output_type": "display_data"
    }
   ],
   "source": [
    "# decision tree for feature importance on a classification problem\n",
    "# code source\"https://machinelearningmastery.com/calculate-feature-importance-with-python/\"\n",
    "from sklearn.datasets import make_classification\n",
    "from sklearn.tree import DecisionTreeClassifier\n",
    "from matplotlib import pyplot\n",
    "\n",
    "# define the model\n",
    "model = DecisionTreeClassifier()\n",
    "# fit the model\n",
    "model.fit(X_train, y_train)\n",
    "# get importance\n",
    "importance = model.feature_importances_\n",
    "# summarize feature importance\n",
    "for i,v in enumerate(importance):\n",
    "    print('Feature: %0d, Score: %.5f' % (i,v))\n",
    "# plot feature importance\n",
    "pyplot.bar([x for x in range(len(importance))], importance)\n",
    "pyplot.show()"
   ]
  }
 ],
 "metadata": {
  "kernelspec": {
   "display_name": "Python 3",
   "language": "python",
   "name": "python3"
  },
  "language_info": {
   "codemirror_mode": {
    "name": "ipython",
    "version": 3
   },
   "file_extension": ".py",
   "mimetype": "text/x-python",
   "name": "python",
   "nbconvert_exporter": "python",
   "pygments_lexer": "ipython3",
   "version": "3.8.5"
  },
  "latex_envs": {
   "LaTeX_envs_menu_present": true,
   "autoclose": false,
   "autocomplete": true,
   "bibliofile": "biblio.bib",
   "cite_by": "apalike",
   "current_citInitial": 1,
   "eqLabelWithNumbers": true,
   "eqNumInitial": 1,
   "hotkeys": {
    "equation": "Ctrl-E",
    "itemize": "Ctrl-I"
   },
   "labels_anchors": false,
   "latex_user_defs": false,
   "report_style_numbering": false,
   "user_envs_cfg": false
  },
  "toc": {
   "base_numbering": 1,
   "nav_menu": {},
   "number_sections": true,
   "sideBar": true,
   "skip_h1_title": false,
   "title_cell": "Table of Contents",
   "title_sidebar": "Contents",
   "toc_cell": false,
   "toc_position": {},
   "toc_section_display": true,
   "toc_window_display": false
  }
 },
 "nbformat": 4,
 "nbformat_minor": 2
}
